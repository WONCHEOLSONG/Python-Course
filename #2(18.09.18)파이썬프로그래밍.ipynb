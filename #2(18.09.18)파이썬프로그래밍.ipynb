{
 "cells": [
  {
   "cell_type": "code",
   "execution_count": null,
   "metadata": {},
   "outputs": [],
   "source": [
    "# 1. 택배 배송 정보 입력\n",
    "\n",
    "print('택배를 배송을 위한 정보를 입력하세요.')\n",
    "num=input('1) 받는분 이름:')\n",
    "bank=input('2) 받는분 연락처:')\n",
    "bank_num=input('3) 받는분 주소:')\n",
    "given=input('4) 배송메세지:')\n",
    "\n",
    "print(\"아래 정보로 배송하겠습니다.\")\n",
    "print(\"==============================\")\n",
    "print('-받는분 이름:', num)\n",
    "print('-받는분 연락처:', bank)\n",
    "print('-받는분 주소:', bank_num)\n",
    "print('-배송메세지:', given)"
   ]
  },
  {
   "cell_type": "code",
   "execution_count": null,
   "metadata": {},
   "outputs": [],
   "source": [
    "# 2 Data type\n",
    "hello='안녕'\n",
    "type(hello)\n",
    "h1='hello, python!'\n",
    "h2=\"hello, python!\"\n",
    "print(\"\"안녕하세요\"라고 말했습니다.\")\n",
    "print(\"'안녕하세요'라고 말했습니다.\")"
   ]
  },
  {
   "cell_type": "code",
   "execution_count": null,
   "metadata": {},
   "outputs": [],
   "source": [
    "# EOL = End of Line 줄이 다 안끝났다라는 뜻.\n",
    "hello = '안녕"
   ]
  },
  {
   "cell_type": "code",
   "execution_count": 11,
   "metadata": {},
   "outputs": [
    {
     "ename": "SyntaxError",
     "evalue": "EOL while scanning string literal (<ipython-input-11-fb0b454782c5>, line 1)",
     "output_type": "error",
     "traceback": [
      "\u001b[1;36m  File \u001b[1;32m\"<ipython-input-11-fb0b454782c5>\"\u001b[1;36m, line \u001b[1;32m1\u001b[0m\n\u001b[1;33m    hello = 안녕'\u001b[0m\n\u001b[1;37m               ^\u001b[0m\n\u001b[1;31mSyntaxError\u001b[0m\u001b[1;31m:\u001b[0m EOL while scanning string literal\n"
     ]
    }
   ],
   "source": [
    "hello = 안녕'"
   ]
  },
  {
   "cell_type": "code",
   "execution_count": 10,
   "metadata": {},
   "outputs": [
    {
     "ename": "SyntaxError",
     "evalue": "EOL while scanning string literal (<ipython-input-10-49470c729c0a>, line 1)",
     "output_type": "error",
     "traceback": [
      "\u001b[1;36m  File \u001b[1;32m\"<ipython-input-10-49470c729c0a>\"\u001b[1;36m, line \u001b[1;32m1\u001b[0m\n\u001b[1;33m    hello = \"안녕\u001b[0m\n\u001b[1;37m               ^\u001b[0m\n\u001b[1;31mSyntaxError\u001b[0m\u001b[1;31m:\u001b[0m EOL while scanning string literal\n"
     ]
    }
   ],
   "source": [
    "hello = \"안녕"
   ]
  },
  {
   "cell_type": "code",
   "execution_count": null,
   "metadata": {},
   "outputs": [],
   "source": [
    "# 작은따옴표(\\\"), 큰따옴표(\\')\n",
    "guide='작은따옴표(\\')를 문자열 시작과 끝에 붙인다.'\n",
    "guide2='큰따옴표(\\\")를 문자열 시작과 끝에 붙인다.)'\n",
    "print(guide)\n",
    "print(guide2)\n",
    "print(\"\\\"안녕하세요\\\"라고 말했습니다.\")\n",
    "print('\\'배가 고픕니다\\'라고 생각했습니다.')"
   ]
  },
  {
   "cell_type": "code",
   "execution_count": null,
   "metadata": {},
   "outputs": [],
   "source": [
    "# 줄바꿈(\\n), 탭(\\t)\n",
    "# 탭 = 스페이스4개 이므로 일관성있게 습관을 들여야 함\n",
    "print(\"이름\\t나이\\t지역\")\n",
    "print(\"윤인성\\t25\\t강서구\")\n",
    "print(\"윤아린\\t24\\t강서구\")\n",
    "print(\"구름\\t3\\t강서구\")"
   ]
  },
  {
   "cell_type": "code",
   "execution_count": null,
   "metadata": {},
   "outputs": [],
   "source": [
    "# 여러 줄 문자열 출력 \\n = \"\"\" (줄바꿈)\n",
    "text=\"매일같이 영화 속에서나\\n책 속에서나 드라마 속에서\\n사랑을 느껴\\nUm 사랑을 배워\"\n",
    "print(text)\n",
    "print(\"\\n\")\n",
    "text1=\"\"\"매일같이 영화 속에서나\n",
    "책 속에서나 드라마 속에서\n",
    "사랑을 느껴\n",
    "Um 사랑을 배워\"\"\"\n",
    "print(text1)"
   ]
  },
  {
   "cell_type": "code",
   "execution_count": null,
   "metadata": {},
   "outputs": [],
   "source": [
    "# 연산자 +로 문자열 연결\n",
    "name=input('이름을 입력하세요: ')\n",
    "welcome=name + '님, 반갑습니다.'\n",
    "print(welcome)"
   ]
  },
  {
   "cell_type": "code",
   "execution_count": null,
   "metadata": {},
   "outputs": [],
   "source": [
    "# 연산자 *로 연결\n",
    "print(\"힘내!\"*100)"
   ]
  },
  {
   "cell_type": "code",
   "execution_count": 66,
   "metadata": {},
   "outputs": [
    {
     "data": {
      "text/plain": [
       "42"
      ]
     },
     "execution_count": 66,
     "metadata": {},
     "output_type": "execute_result"
    }
   ],
   "source": [
    "# len()  = 문자열 길이 확인\n",
    "len('There is a reason why Python is so popular')"
   ]
  },
  {
   "cell_type": "code",
   "execution_count": 70,
   "metadata": {},
   "outputs": [
    {
     "name": "stdout",
     "output_type": "stream",
     "text": [
      "S\n",
      "t\n",
      "r\n",
      "a\n",
      "t\n",
      "St\n",
      "tr\n",
      "Str\n",
      "atosphere\n"
     ]
    }
   ],
   "source": [
    "# 선택 연산자 [*] [] (시작은 항상 0부터 시작)\n",
    "print('Stratosphere'[0])\n",
    "print('Stratosphere'[1])\n",
    "print('Stratosphere'[2])\n",
    "print('Stratosphere'[3])\n",
    "print('Stratosphere'[4])\n",
    "print('Stratosphere'[0:2])\n",
    "print('Stratosphere'[1:3])\n",
    "print('Stratosphere'[:3]) #처음부터 3번째 문자열까지\n",
    "print('Stratosphere'[3:]) #3번째부터끝까지"
   ]
  },
  {
   "cell_type": "code",
   "execution_count": 85,
   "metadata": {},
   "outputs": [
    {
     "name": "stdout",
     "output_type": "stream",
     "text": [
      "PYTHON\n",
      "python\n",
      "P-y-t-h-o-n\n",
      "Python\n"
     ]
    }
   ],
   "source": [
    "#문자열 Method\n",
    "hhh='Python'\n",
    "print(hhh.upper())\n",
    "print(hhh.lower())\n",
    "print('-'.join(hhh))\n",
    "print(hhh)"
   ]
  },
  {
   "cell_type": "code",
   "execution_count": 90,
   "metadata": {},
   "outputs": [
    {
     "data": {
      "text/plain": [
       "float"
      ]
     },
     "execution_count": 90,
     "metadata": {},
     "output_type": "execute_result"
    }
   ],
   "source": [
    "# Data type int정수, float\n",
    "type(100)\n",
    "type(100.0)"
   ]
  },
  {
   "cell_type": "code",
   "execution_count": 98,
   "metadata": {},
   "outputs": [
    {
     "data": {
      "text/plain": [
       "'+, -, *, /, //, %'"
      ]
     },
     "execution_count": 98,
     "metadata": {},
     "output_type": "execute_result"
    }
   ],
   "source": [
    "#연산자는 우선순위가 복잡할 수록 높음\n",
    "\"\"\"+, -, *, /, //, %\"\"\""
   ]
  },
  {
   "cell_type": "code",
   "execution_count": 149,
   "metadata": {},
   "outputs": [
    {
     "name": "stdout",
     "output_type": "stream",
     "text": [
      "1131\n",
      "116444\n",
      "1131\n",
      "1131\n",
      "1131\n",
      "\n",
      "\n",
      "초기 개수:  1131\n",
      "초증가 후 개수: 1132\n",
      "증가 후 개수: 1133\n"
     ]
    }
   ],
   "source": [
    "#변수와 대입 연산자에서 '='이 있는 경우 변수의 값을 우측부터 읽는다.\n",
    "total_count = 243 + 888\n",
    "total_price = (500*232)+(313+131)\n",
    "print(total_count)\n",
    "print(total_price)\n",
    "init_count = final_count = total_count\n",
    "print(init_count)\n",
    "print(final_count)\n",
    "print(total_count)\n",
    "print(\"\\n\")\n",
    "print(\"초기 개수: \", final_count)\n",
    "final_count = final_count +1\n",
    "print(\"초증가 후 개수:\", final_count)\n",
    "final_count += 1\n",
    "print(\"증가 후 개수:\", final_count)"
   ]
  },
  {
   "cell_type": "markdown",
   "metadata": {},
   "source": [
    "# 복합대입연산자\n",
    "#+= 숫자 덧셈 후 대입\n",
    "#-= 숫자 뺄셈 후 대입\n",
    "#*= 숫자 곱셈 후 대입\n",
    "#/= 숫자 나눗셈 후 대입\n",
    "#%= 숫자 나머지 구한 후 대입\n",
    "#**= 숫자 제곱 후 대입"
   ]
  },
  {
   "cell_type": "code",
   "execution_count": 168,
   "metadata": {},
   "outputs": [
    {
     "name": "stdout",
     "output_type": "stream",
     "text": [
      "number: 120\n",
      "string: 안녕하세요!!\n"
     ]
    }
   ],
   "source": [
    "number = 100\n",
    "number += 10\n",
    "number -= 20\n",
    "number += 30\n",
    "print(\"number:\", number)\n",
    "string = \"안녕하세요\"\n",
    "string += \"!\"\n",
    "string += \"!\"\n",
    "print(\"string:\", string)"
   ]
  },
  {
   "cell_type": "code",
   "execution_count": 173,
   "metadata": {},
   "outputs": [
    {
     "ename": "TypeError",
     "evalue": "unsupported operand type(s) for +: 'int' and 'str'",
     "output_type": "error",
     "traceback": [
      "\u001b[1;31m---------------------------------------------------------------------------\u001b[0m",
      "\u001b[1;31mTypeError\u001b[0m                                 Traceback (most recent call last)",
      "\u001b[1;32m<ipython-input-173-d971cd389be6>\u001b[0m in \u001b[0;36m<module>\u001b[1;34m()\u001b[0m\n\u001b[0;32m      1\u001b[0m \u001b[1;31m#데이터 타입 변경\u001b[0m\u001b[1;33m\u001b[0m\u001b[1;33m\u001b[0m\u001b[0m\n\u001b[1;32m----> 2\u001b[1;33m \u001b[1;36m100\u001b[0m \u001b[1;33m+\u001b[0m \u001b[1;34m'100'\u001b[0m\u001b[1;33m\u001b[0m\u001b[0m\n\u001b[0m\u001b[0;32m      3\u001b[0m \u001b[1;36m100\u001b[0m \u001b[1;33m+\u001b[0m \u001b[0mint\u001b[0m\u001b[1;33m(\u001b[0m\u001b[1;34m'100'\u001b[0m\u001b[1;33m)\u001b[0m\u001b[1;33m\u001b[0m\u001b[0m\n",
      "\u001b[1;31mTypeError\u001b[0m: unsupported operand type(s) for +: 'int' and 'str'"
     ]
    }
   ],
   "source": [
    "#데이터 타입 변경\n",
    "100 + '100'\n",
    "100 + int('100')"
   ]
  },
  {
   "cell_type": "code",
   "execution_count": null,
   "metadata": {},
   "outputs": [],
   "source": [
    "#문자열끼리 합\n",
    "A = 'Amer'\n",
    "B = 'ica'\n",
    "A+B"
   ]
  },
  {
   "cell_type": "markdown",
   "metadata": {},
   "source": [
    "# 환율계산기\n",
    "- 환전하고자 하는 금액(won)을 입력하면, 3개 나라(미국, 일본, EU)의 화폐로 환전한 결과가 단위와 함꼐 출력되도록 하라. 결과 출력 시 소수점은 셋째 자리에서 반올림하여 둘째자리까지만 표기.(round())\n",
    "1. 환전 대상 금액 입력(KRW)\n",
    "2. 각국 환율 적용 결과(정수 변환 후 소수점 셋쨰자리에서 반올림)\n",
    "3. 결과출력"
   ]
  },
  {
   "cell_type": "code",
   "execution_count": 4,
   "metadata": {},
   "outputs": [
    {
     "ename": "SyntaxError",
     "evalue": "invalid syntax (<ipython-input-4-a70eda56c446>, line 6)",
     "output_type": "error",
     "traceback": [
      "\u001b[1;36m  File \u001b[1;32m\"<ipython-input-4-a70eda56c446>\"\u001b[1;36m, line \u001b[1;32m6\u001b[0m\n\u001b[1;33m    dollar = round(dollar[,3])\u001b[0m\n\u001b[1;37m                          ^\u001b[0m\n\u001b[1;31mSyntaxError\u001b[0m\u001b[1;31m:\u001b[0m invalid syntax\n"
     ]
    }
   ],
   "source": [
    "#환전\n",
    "won = input(\"환전하고자 하는 금액(won)을 입력해 주세요.:\")\n",
    "won=float()\n",
    "dollar = (won * 0.001)\n",
    "dollar = float()\n",
    "dollar = round(dollar[,3])\n",
    "enwha = (won * 0.1)\n",
    "enwha = float()\n",
    "enwha = round(enwha[,3])\n",
    "EU = (won * 0.002)\n",
    "EU = float()\n",
    "EU = round(EU[,3])\n",
    "\n",
    "print(\"예상 환전금액은 다음과 같습니다.:\", dollar, '$', enwha, '￥', EU, '€')"
   ]
  },
  {
   "cell_type": "code",
   "execution_count": 5,
   "metadata": {},
   "outputs": [],
   "source": [
    "krw = input\n",
    "usd = round(int(krw)/1111.00, 2)"
   ]
  },
  {
   "cell_type": "markdown",
   "metadata": {},
   "source": [
    "# 시험점수 계산기\n",
    "1. 국영수 과목 시험 점수, 전체 총점, 평균 점수를 구하는 프로그램.\n",
    "2. 3개 과목의 점수를 입력받고, 입력 받은 점수, 총점, 평균 점수(반올림하여 소수점 둘째 자리까지 표기) 출력하는 프로그램."
   ]
  },
  {
   "cell_type": "code",
   "execution_count": 4,
   "metadata": {},
   "outputs": [
    {
     "name": "stdout",
     "output_type": "stream",
     "text": [
      "3개 과목의 시험점수를 차례대로 입력하세요!\n",
      "국어 : 152\n",
      "영어 : 354\n",
      "수학 : 152\n",
      "===========================================\n",
      "국어점수: 152\n",
      "영어점수: 354\n",
      "수학점수: 152\n",
      "===========================================\n",
      "총합계점수: 658\n",
      "평균점수: 219.33\n"
     ]
    }
   ],
   "source": [
    "print(\"3개 과목의 시험점수를 차례대로 입력하세요!\")\n",
    "국 = input(\"국어 : \", )\n",
    "영 = input(\"영어 : \", )\n",
    "수 = input(\"수학 : \", )\n",
    "국=int(국)\n",
    "영=int(영)\n",
    "수=int(수)\n",
    "print(\"===========================================\")\n",
    "print(\"국어점수:\", 국)\n",
    "print(\"영어점수:\", 영)\n",
    "print(\"수학점수:\", 수)\n",
    "print(\"===========================================\")\n",
    "T=(국+영+수)\n",
    "avg=float(T/3)\n",
    "print(\"총합계점수:\", T)\n",
    "print(\"평균점수:\", round(avg, 2))"
   ]
  },
  {
   "cell_type": "code",
   "execution_count": 5,
   "metadata": {},
   "outputs": [
    {
     "ename": "SyntaxError",
     "evalue": "invalid syntax (<ipython-input-5-d709079d8fda>, line 2)",
     "output_type": "error",
     "traceback": [
      "\u001b[1;36m  File \u001b[1;32m\"<ipython-input-5-d709079d8fda>\"\u001b[1;36m, line \u001b[1;32m2\u001b[0m\n\u001b[1;33m    pip install jupyterthemes\u001b[0m\n\u001b[1;37m              ^\u001b[0m\n\u001b[1;31mSyntaxError\u001b[0m\u001b[1;31m:\u001b[0m invalid syntax\n"
     ]
    }
   ],
   "source": [
    "# install jupyterthemes\n",
    "pip install jupyterthemes\n",
    "\n",
    "# upgrade to latest version\n",
    "pip install --upgrade jupyterthemes"
   ]
  },
  {
   "cell_type": "code",
   "execution_count": null,
   "metadata": {},
   "outputs": [],
   "source": []
  }
 ],
 "metadata": {
  "kernelspec": {
   "display_name": "Python 3",
   "language": "python",
   "name": "python3"
  },
  "language_info": {
   "codemirror_mode": {
    "name": "ipython",
    "version": 3
   },
   "file_extension": ".py",
   "mimetype": "text/x-python",
   "name": "python",
   "nbconvert_exporter": "python",
   "pygments_lexer": "ipython3",
   "version": "3.6.5"
  }
 },
 "nbformat": 4,
 "nbformat_minor": 2
}
