{
 "cells": [
  {
   "cell_type": "markdown",
   "metadata": {},
   "source": [
    "# 1. 데이터 정렬하기:sorted()"
   ]
  },
  {
   "cell_type": "code",
   "execution_count": 1,
   "metadata": {},
   "outputs": [
    {
     "name": "stdout",
     "output_type": "stream",
     "text": [
      "[1, 2, 3, 4, 5, 7]\n",
      "[7, 5, 4, 3, 2, 1]\n",
      "(4, 2, 5, 7, 1, 3)\n"
     ]
    }
   ],
   "source": [
    "num = 4,2,5,7,1,3\n",
    "print(sorted(num))\n",
    "print(sorted(num, reverse = True))\n",
    "print(num)"
   ]
  },
  {
   "cell_type": "markdown",
   "metadata": {},
   "source": [
    "# 2. keys()함수"
   ]
  },
  {
   "cell_type": "code",
   "execution_count": 2,
   "metadata": {},
   "outputs": [
    {
     "name": "stdout",
     "output_type": "stream",
     "text": [
      "['C', 'C++', 'Java', 'Python', 'Ruby']\n",
      "['Ruby', 'Python', 'Java', 'C++', 'C']\n"
     ]
    }
   ],
   "source": [
    "programmer_dict = {'Python':5,'C':2,'C++':3,'Java':4,'Ruby':1}\n",
    "print(sorted(programmer_dict.keys()))\n",
    "print(sorted(programmer_dict.keys(), reverse=True))"
   ]
  },
  {
   "cell_type": "markdown",
   "metadata": {},
   "source": [
    "# 3. range()함수"
   ]
  },
  {
   "cell_type": "code",
   "execution_count": 3,
   "metadata": {},
   "outputs": [
    {
     "name": "stdout",
     "output_type": "stream",
     "text": [
      "0\n",
      "1\n",
      "2\n",
      "3\n",
      "4\n",
      "0\n",
      "1\n",
      "2\n",
      "3\n",
      "4\n"
     ]
    }
   ],
   "source": [
    "nums = 0, 1, 2, 3, 4\n",
    "for num in nums:\n",
    "    print(num)\n",
    "    \n",
    "for num in range(5):\n",
    "    print(num)"
   ]
  },
  {
   "cell_type": "code",
   "execution_count": 4,
   "metadata": {},
   "outputs": [
    {
     "name": "stdout",
     "output_type": "stream",
     "text": [
      "1\n",
      "2\n",
      "3\n",
      "4\n",
      "5\n"
     ]
    }
   ],
   "source": [
    "#1부터 5까지 1씩 증가\n",
    "for num in range(1, 6):\n",
    "    print(num)"
   ]
  },
  {
   "cell_type": "code",
   "execution_count": 5,
   "metadata": {},
   "outputs": [
    {
     "name": "stdout",
     "output_type": "stream",
     "text": [
      "2\n",
      "4\n",
      "6\n",
      "8\n",
      "10\n",
      "1\n",
      "3\n",
      "5\n",
      "7\n",
      "9\n"
     ]
    }
   ],
   "source": [
    "#10이하 숫자 중 짝수 출력\n",
    "for num in range(2, 11, 2):\n",
    "    print(num)\n",
    "for num in range(1, 11, 2):\n",
    "    print(num)"
   ]
  },
  {
   "cell_type": "code",
   "execution_count": 6,
   "metadata": {},
   "outputs": [
    {
     "name": "stdout",
     "output_type": "stream",
     "text": [
      "0 python\n",
      "1 java\n",
      "2 C++\n"
     ]
    }
   ],
   "source": [
    "#세가지 프로그램 언어를 튜플로 저장\n",
    "#튜플 색인 및 값 출력\n",
    "#----------많이 쓰므로 기억하기 ★\n",
    "langs = 'python','java','C++'\n",
    "for index in range(len(langs)):\n",
    "    print(index, langs[index])"
   ]
  },
  {
   "cell_type": "markdown",
   "metadata": {},
   "source": [
    "# 4. 제어문과 데이터 타입 조합 "
   ]
  },
  {
   "cell_type": "markdown",
   "metadata": {},
   "source": [
    "    0~9 숫자의 제곱수로 이루어진 리스트를 만들어 보자"
   ]
  },
  {
   "cell_type": "code",
   "execution_count": 7,
   "metadata": {},
   "outputs": [
    {
     "name": "stdout",
     "output_type": "stream",
     "text": [
      "[0, 1, 4, 9, 16, 25, 36, 49, 64, 81]\n"
     ]
    }
   ],
   "source": [
    "squares = []\n",
    "for x in range(10):\n",
    "    squares.append(x**2)\n",
    "print(squares)"
   ]
  },
  {
   "cell_type": "markdown",
   "metadata": {},
   "source": [
    "    리스트 선언 시 [] 안에 반복문을 넣을 수 있는 문법 "
   ]
  },
  {
   "cell_type": "code",
   "execution_count": 8,
   "metadata": {},
   "outputs": [
    {
     "name": "stdout",
     "output_type": "stream",
     "text": [
      "[0, 1, 4, 9, 16, 25, 36, 49, 64, 81]\n"
     ]
    }
   ],
   "source": [
    "new_sqares = [x**2 for x in range(10)]\n",
    "print(new_sqares)"
   ]
  },
  {
   "cell_type": "markdown",
   "metadata": {},
   "source": [
    "# 문제\n",
    "    A, B리스트가 있고, 각 리스트에는 세 가지 색을 표현하는 단어가 있다.\n",
    "    A = blue, yellow, red, B= red, green, blue\n",
    "    A와 B를 비교하여 색이 다른 경우의 수를 색의 쌍으로 저장한 리스트 생성\n",
    "    A = ['blue', 'yellow', 'red']\n",
    "    B = ['red', 'green', 'blue']\n",
    "    \n",
    "    #결과\n",
    "    pairs\n",
    "    2쌍씩"
   ]
  },
  {
   "cell_type": "code",
   "execution_count": 9,
   "metadata": {},
   "outputs": [
    {
     "name": "stdout",
     "output_type": "stream",
     "text": [
      "[['blue', 'blue'], ['red', 'red']]\n"
     ]
    }
   ],
   "source": [
    "A = ['blue', 'yellow','red']\n",
    "B = ['red', 'green', 'blue']\n",
    "pairs = []\n",
    "for a in A:\n",
    "    for b in B:\n",
    "        if a == b:\n",
    "            pairs.append([a, b])\n",
    "print(pairs)"
   ]
  },
  {
   "cell_type": "code",
   "execution_count": 10,
   "metadata": {},
   "outputs": [
    {
     "name": "stdout",
     "output_type": "stream",
     "text": [
      "[('blue', 'red'), ('blue', 'green'), ('yellow', 'red'), ('yellow', 'green'), ('yellow', 'blue'), ('red', 'green'), ('red', 'blue')]\n"
     ]
    }
   ],
   "source": [
    "pairs = []\n",
    "for a in A:\n",
    "    for b in B:\n",
    "        if a != b:\n",
    "            pairs.append((a,b))\n",
    "print(pairs)"
   ]
  },
  {
   "cell_type": "code",
   "execution_count": 11,
   "metadata": {},
   "outputs": [
    {
     "name": "stdout",
     "output_type": "stream",
     "text": [
      "[('blue', 'red'), ('blue', 'green'), ('yellow', 'red'), ('yellow', 'green'), ('yellow', 'blue'), ('red', 'green'), ('red', 'blue')]\n"
     ]
    }
   ],
   "source": [
    "#축약형\n",
    "new_pairs = [(a,b) for a in A for b in B if a!=b]\n",
    "print(new_pairs)"
   ]
  },
  {
   "cell_type": "code",
   "execution_count": 12,
   "metadata": {},
   "outputs": [
    {
     "name": "stdout",
     "output_type": "stream",
     "text": [
      "{2: 4, 4: 16, 6: 36}\n",
      "{1: 1, 2: 8, 3: 27}\n"
     ]
    }
   ],
   "source": [
    "# 세트 생성 시 조건문\n",
    "a = {x for x in 'abraaaabbbbbccccccabadsfacacccccffffffzzferasdv' if x not in 'abc'}\n",
    "a\n",
    "# 딕셔너리 타입\n",
    "square_dic = {x:x**2 for x in (2,4,6)}\n",
    "print(square_dic)\n",
    "abc = {x:x**3 for x in (1,2,3)}\n",
    "print(abc)"
   ]
  },
  {
   "cell_type": "markdown",
   "metadata": {},
   "source": [
    "# 5. 색인과 항목 enummerate()"
   ]
  },
  {
   "cell_type": "code",
   "execution_count": 13,
   "metadata": {},
   "outputs": [
    {
     "name": "stdout",
     "output_type": "stream",
     "text": [
      "0 kimchi\n",
      "1 bibimbab\n",
      "2 tteok-bokki\n",
      "0 kimchi\n",
      "1 bibimbab\n",
      "2 tteok-bokki\n",
      "0 kimchi\n",
      "1 bibimbab\n",
      "2 tteok-bokki\n",
      "0 kimchi\n",
      "1 bibimbab\n",
      "4 tteok-bokki\n"
     ]
    }
   ],
   "source": [
    "korean_foods = ['kimchi','bibimbab','tteok-bokki']\n",
    "korean_foods[0]\n",
    "#for문을 사용하여 색인과 항목 생성\n",
    "for index in range(len(korean_foods)):\n",
    "    print(index, korean_foods[index])\n",
    "index = 0\n",
    "for food in korean_foods:\n",
    "    print(index, food)\n",
    "    index += 1\n",
    "#enumerate 사용\n",
    "korean_foods_enum = enumerate(korean_foods)\n",
    "type(korean_foods_enum)\n",
    "for index, food in korean_foods_enum:\n",
    "    print(index, food)\n",
    "#입력\n",
    "for index in range(len(korean_foods)):\n",
    "    print(index**2, korean_foods[index])"
   ]
  },
  {
   "cell_type": "markdown",
   "metadata": {},
   "source": [
    "# 문제\n",
    "    4팀의 축구경기 대진표(홈 앤드 어웨이)\n",
    "    리스트 생성 값을 출력\n",
    "    같은 결과 2번 출력\n",
    "    총 12번의 경기\n",
    "    한줄로 된 새로운 리스트 생성\n",
    "    새로운 리스트 값 출력"
   ]
  },
  {
   "cell_type": "code",
   "execution_count": 14,
   "metadata": {},
   "outputs": [
    {
     "name": "stdout",
     "output_type": "stream",
     "text": [
      "[('맨유', '리버풀'), ('맨유', '첼시'), ('맨유', '아스날'), ('리버풀', '맨유'), ('리버풀', '첼시'), ('리버풀', '아스날'), ('첼시', '맨유'), ('첼시', '리버풀'), ('첼시', '아스날'), ('아스날', '맨유'), ('아스날', '리버풀'), ('아스날', '첼시')] \n",
      " [('맨유', '리버풀'), ('맨유', '첼시'), ('맨유', '아스날'), ('리버풀', '맨유'), ('리버풀', '첼시'), ('리버풀', '아스날'), ('첼시', '맨유'), ('첼시', '리버풀'), ('첼시', '아스날'), ('아스날', '맨유'), ('아스날', '리버풀'), ('아스날', '첼시')] \n",
      "\n",
      "[('맨유', '리버풀'), ('맨유', '첼시'), ('맨유', '아스날'), ('리버풀', '맨유'), ('리버풀', '첼시'), ('리버풀', '아스날'), ('첼시', '맨유'), ('첼시', '리버풀'), ('첼시', '아스날'), ('아스날', '맨유'), ('아스날', '리버풀'), ('아스날', '첼시')] \n",
      " [('맨유', '리버풀'), ('맨유', '첼시'), ('맨유', '아스날'), ('리버풀', '맨유'), ('리버풀', '첼시'), ('리버풀', '아스날'), ('첼시', '맨유'), ('첼시', '리버풀'), ('첼시', '아스날'), ('아스날', '맨유'), ('아스날', '리버풀'), ('아스날', '첼시')]\n"
     ]
    }
   ],
   "source": [
    "#내가 하는 방법\n",
    "player = ['맨유', '리버풀', '첼시', '아스날']\n",
    "schedule = set()\n",
    "dual = []\n",
    "for a in player:\n",
    "    for b in player:\n",
    "        if a != b:\n",
    "            dual.append((a,b))\n",
    "print(dual, '\\n', dual, '\\n')\n",
    "new_schedule = [(a,b) for a in player for b in player if a != b]\n",
    "print(new_schedule, '\\n', new_schedule)"
   ]
  },
  {
   "cell_type": "code",
   "execution_count": 15,
   "metadata": {},
   "outputs": [
    {
     "name": "stdout",
     "output_type": "stream",
     "text": [
      "{('아스날', '리버풀'), ('첼시', '아스날'), ('리버풀', '아스날'), ('아스날', '첼시'), ('맨유', '첼시'), ('첼시', '맨유'), ('리버풀', '첼시'), ('첼시', '리버풀'), ('맨유', '아스날'), ('맨유', '리버풀'), ('아스날', '맨유'), ('리버풀', '맨유')}\n",
      "[('맨유', '리버풀'), ('맨유', '첼시'), ('맨유', '아스날'), ('리버풀', '맨유'), ('리버풀', '첼시'), ('리버풀', '아스날'), ('첼시', '맨유'), ('첼시', '리버풀'), ('첼시', '아스날'), ('아스날', '맨유'), ('아스날', '리버풀'), ('아스날', '첼시')]\n"
     ]
    }
   ],
   "source": [
    "#답안\n",
    "players = '맨유','리버풀','첼시','아스날'\n",
    "schedule = set()\n",
    "for player_A in players:\n",
    "    for player_B in players:\n",
    "        if player_A != player_B:\n",
    "            schedule.add((player_A,player_B))\n",
    "print(schedule)\n",
    "new_schedule = [(player_A, player_B) for player_A in players for player_B in players if player_A != player_B]\n",
    "print(new_schedule)"
   ]
  },
  {
   "cell_type": "markdown",
   "metadata": {},
   "source": [
    "# 문제\n",
    "    100M 결과 출력\n",
    "    전체 선수 숫자 입력\n",
    "    시합결과 저장 리스트 생성\n",
    "    결승선 통과 선수 이름 입력받아 리스트에 추가\n",
    "    결과를 등수와 함께 출력"
   ]
  },
  {
   "cell_type": "code",
   "execution_count": 16,
   "metadata": {},
   "outputs": [
    {
     "ename": "SyntaxError",
     "evalue": "invalid syntax (<ipython-input-16-1fcae5502842>, line 6)",
     "output_type": "error",
     "traceback": [
      "\u001b[1;36m  File \u001b[1;32m\"<ipython-input-16-1fcae5502842>\"\u001b[1;36m, line \u001b[1;32m6\u001b[0m\n\u001b[1;33m    pop_name.append(str(input('\\n %s 번째 들어온 선수 이름은 무엇인가요?:'%s i)))\u001b[0m\n\u001b[1;37m                                                              ^\u001b[0m\n\u001b[1;31mSyntaxError\u001b[0m\u001b[1;31m:\u001b[0m invalid syntax\n"
     ]
    }
   ],
   "source": [
    "#내 해법(method)\n",
    "pop = []\n",
    "pop_name = []\n",
    "pop_count = int(input('\\n달리기 선수가 몇 명인가요?:' ))\n",
    "for i in range(pop_count+1):\n",
    "    pop_name.append(str(input('\\n %s 번째 들어온 선수 이름은 무엇인가요?:'%s i)))\n",
    "    i += 1\n",
    "print('\\n달리기 시합 결과!!\\n')"
   ]
  },
  {
   "cell_type": "code",
   "execution_count": 17,
   "metadata": {},
   "outputs": [
    {
     "name": "stdout",
     "output_type": "stream",
     "text": [
      "\n",
      " 달리기 선수가 몇 명인가요?:3\n",
      "\n",
      " 지금 들어온 선수 이름을 입력하세요 :아야\n",
      "\n",
      " 지금 들어온 선수 이름을 입력하세요 :어여\n",
      "\n",
      " 지금 들어온 선수 이름을 입력하세요 :우유\n",
      "\n",
      " 달리기 시합 결과!!\n",
      "\n",
      "1 등 아야\n",
      "2 등 어여\n",
      "3 등 우유\n"
     ]
    }
   ],
   "source": [
    "#해답\n",
    "player_count =int(input('\\n 달리기 선수가 몇 명인가요?:'))\n",
    "players =list()\n",
    "while player_count >0:\n",
    "    players.append(input('\\n 지금 들어온 선수 이름을 입력하세요 :'))\n",
    "    player_count -=1\n",
    "print('\\n 달리기 시합 결과!!\\n')\n",
    "for rank, player in enumerate(players):\n",
    "    print(rank+1, '등', player)"
   ]
  },
  {
   "cell_type": "markdown",
   "metadata": {},
   "source": [
    "2018.11.13.화요일"
   ]
  },
  {
   "cell_type": "markdown",
   "metadata": {},
   "source": [
    "# 6. Reference 목록 만들기\n",
    "    읽은 책에 대한 리스트"
   ]
  },
  {
   "cell_type": "code",
   "execution_count": 18,
   "metadata": {},
   "outputs": [
    {
     "ename": "IndentationError",
     "evalue": "expected an indented block (<ipython-input-18-a994561e60ac>, line 19)",
     "output_type": "error",
     "traceback": [
      "\u001b[1;36m  File \u001b[1;32m\"<ipython-input-18-a994561e60ac>\"\u001b[1;36m, line \u001b[1;32m19\u001b[0m\n\u001b[1;33m    a['제목']\u001b[0m\n\u001b[1;37m    ^\u001b[0m\n\u001b[1;31mIndentationError\u001b[0m\u001b[1;31m:\u001b[0m expected an indented block\n"
     ]
    }
   ],
   "source": [
    "#내가 하는 방법\n",
    "books = list() # 책 목록 선언\n",
    "#책 목록 만들기\n",
    "a = {'제목':'개발','출판연도':'2010.11.30','출판사':'A','쪽수':'270','추천유무':True}\n",
    "b = {'제목':'파이썬','출판연도':'2015.01.02','출판사':'B','쪽수':'190','추천유무':True}\n",
    "c = {'제목':'빅데이터','출판연도':'2011.03.25','출판사':'A','쪽수':'290','추천유무':False}\n",
    "d = {'제목':'코딩','출판연도':'2017.07.11','출판사':'B','쪽수':'170','추천유무':False}\n",
    "e = {'제목':'코드','출판연도':'2018.11.06','출판사':'A','쪽수':'250','추천유무':False}\n",
    "print('전체 책 목록')\n",
    "books_list = [a, b, c, d, e]\n",
    "print(books_list) #정렬되지 않은 전체 책 목록\n",
    "print('\\n')\n",
    "for name in books_list:\n",
    "    print(name.values())\n",
    "\n",
    "name_list = list()\n",
    "for x in books_list:\n",
    "    \n",
    "a['제목']\n",
    "b['제목']\n",
    "c['제목']\n",
    "d['제목']"
   ]
  },
  {
   "cell_type": "code",
   "execution_count": 19,
   "metadata": {},
   "outputs": [
    {
     "name": "stdout",
     "output_type": "stream",
     "text": [
      "전체 책 목록\n",
      "{'제목': '개발', '출판연도': '2010.11.30', '출판사': 'A', '쪽수': 270, '추천유무': True}\n",
      "{'제목': '파이썬', '출판연도': '2015.01.02', '출판사': 'B', '쪽수': 190, '추천유무': True}\n",
      "{'제목': '빅데이터', '출판연도': '2011.03.25', '출판사': 'A', '쪽수': 290, '추천유무': False}\n",
      "{'제목': '코딩', '출판연도': '2017.07.11', '출판사': 'B', '쪽수': 170, '추천유무': False}\n",
      "{'제목': '코드', '출판연도': '2018.11.06', '출판사': 'A', '쪽수': 250, '추천유무': True}\n",
      "\n",
      "\n",
      "쪽수가 250쪽 넘는 책 리스트: ['개발', '빅데이터']\n",
      "내가 추천하는 책 리스트: ['개발', '파이썬', '코드']\n",
      "내가 읽은 책 전체 쪽수: 1170\n",
      "내가 읽은 책의 출판사 목록: {'A', 'B'}\n",
      "\n",
      "\n",
      "한 줄로 만든 쪽수가 250쪽 넘는 책 리스트: ['개발', '빅데이터']\n"
     ]
    }
   ],
   "source": [
    "#해답\n",
    "books = list() # 책 목록 선언\n",
    "#책 목록 만들기\n",
    "books.append({'제목':'개발','출판연도':'2010.11.30','출판사':'A','쪽수':270,'추천유무':True})\n",
    "books.append({'제목':'파이썬','출판연도':'2015.01.02','출판사':'B','쪽수':190,'추천유무':True})\n",
    "books.append({'제목':'빅데이터','출판연도':'2011.03.25','출판사':'A','쪽수':290,'추천유무':False})\n",
    "books.append({'제목':'코딩','출판연도':'2017.07.11','출판사':'B','쪽수':170,'추천유무':False})\n",
    "books.append({'제목':'코드','출판연도':'2018.11.06','출판사':'A','쪽수':250,'추천유무':True})\n",
    "print('전체 책 목록')\n",
    "for book in books: #책 한 권씩 꺼내기 위한 루프 선언\n",
    "    print(book) #책 한 권 데이터 출력\n",
    "many_page = list() #책 리스트 선언\n",
    "recommends = list() #책 리스트 선언\n",
    "all_pages = int() #전체 쪽수 변수 선언\n",
    "pub_companies = set() #출판사 집합 선\n",
    "for book in books: #책 한 권씩 꺼내기 위한 루프 선언\n",
    "    if book['쪽수'] > 250: #250쪽 넘는 책 목록 만들기\n",
    "        many_page.append(book['제목'])\n",
    "    if book['추천유무']:#책 추천 목록 만들기\n",
    "        recommends.append(book['제목'])\n",
    "    all_pages = all_pages + book['쪽수'] #책 쪽수 더하기\n",
    "    pub_companies.add(book['출판사']) #출판사 추가하기\n",
    "print('\\n')\n",
    "print('쪽수가 250쪽 넘는 책 리스트:', many_page)\n",
    "print('내가 추천하는 책 리스트:', recommends)\n",
    "print('내가 읽은 책 전체 쪽수:', all_pages)\n",
    "print('내가 읽은 책의 출판사 목록:', pub_companies)\n",
    "\n",
    "#쪽수 많은 책 리스트 만들기\n",
    "many_page = [book['제목'] for book in books if book['쪽수']>250]\n",
    "print('\\n')\n",
    "print('한 줄로 만든 쪽수가 250쪽 넘는 책 리스트:', many_page)"
   ]
  }
 ],
 "metadata": {
  "kernelspec": {
   "display_name": "Python 3",
   "language": "python",
   "name": "python3"
  },
  "language_info": {
   "codemirror_mode": {
    "name": "ipython",
    "version": 3
   },
   "file_extension": ".py",
   "mimetype": "text/x-python",
   "name": "python",
   "nbconvert_exporter": "python",
   "pygments_lexer": "ipython3",
   "version": "3.6.5"
  }
 },
 "nbformat": 4,
 "nbformat_minor": 2
}
