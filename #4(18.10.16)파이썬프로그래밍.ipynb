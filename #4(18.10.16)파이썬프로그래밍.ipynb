{
 "cells": [
  {
   "cell_type": "markdown",
   "metadata": {},
   "source": [
    "# List 난이도 up"
   ]
  },
  {
   "cell_type": "markdown",
   "metadata": {},
   "source": [
    "리스트는 기본적으로 가지고 있는 값이 변할 수 있다."
   ]
  },
  {
   "cell_type": "code",
   "execution_count": null,
   "metadata": {},
   "outputs": [],
   "source": [
    "cards = [3, 1, 5, 2]\n",
    "print(cards)\n",
    "type(cards)\n",
    "print(cards[0])\n",
    "print(cards[3])"
   ]
  },
  {
   "cell_type": "code",
   "execution_count": null,
   "metadata": {},
   "outputs": [],
   "source": [
    "cards[1] = 8"
   ]
  },
  {
   "cell_type": "code",
   "execution_count": null,
   "metadata": {},
   "outputs": [],
   "source": [
    "#리스트 항목 추가\n",
    "cards.append(7)\n",
    "cards"
   ]
  },
  {
   "cell_type": "code",
   "execution_count": null,
   "metadata": {},
   "outputs": [],
   "source": [
    "#삽입\n",
    "cards.insert(1, 9)\n",
    "cards"
   ]
  },
  {
   "cell_type": "code",
   "execution_count": null,
   "metadata": {},
   "outputs": [],
   "source": [
    "#추출\n",
    "cards.pop(3)\n",
    "cards\n",
    "cards.pop(0)"
   ]
  },
  {
   "cell_type": "code",
   "execution_count": null,
   "metadata": {},
   "outputs": [],
   "source": [
    "myList = [30, 10, 20]\n",
    "print(\"현재 리스트:%s\"%myList)\n",
    "\n",
    "myList.append(40)\n",
    "print(\"append(40) 후의 리스트 : %s\" %myList)\n",
    "print(\"pop() 으로 추출한 값 : %s\" %myList.pop())\n",
    "print(\"pop() 후의 리스트 : %s\" %myList)\n",
    "\n",
    "myList.sort()\n",
    "print(\"sort() 후의 리스트 : %s\" %myList)\n",
    "\n",
    "myList.reverse()\n",
    "print(\"reverse() 후의 리스트 : %s\" % myList)\n",
    "print(\"20 값의 위치 : %d\" % myList.index(20))\n",
    "\n",
    "myList.insert(2, 222)\n",
    "print(\"insert(2, 222) 후의 리스트 : %s\" %myList)\n",
    "\n",
    "myList.remove(222)\n",
    "print(\"remove(222) 후의 리스트 : %s\" % myList)\n",
    "\n",
    "myList.extend([77, 88, 77])\n",
    "print(\"extend([77, 88, 77])후의 리스트 : %s\" % myList)"
   ]
  },
  {
   "cell_type": "code",
   "execution_count": null,
   "metadata": {},
   "outputs": [],
   "source": [
    "#100개의 리스트를 만들 경우 예\n",
    "#append()와 함께 for문 활용\n",
    "\n",
    "lis_100=[]\n",
    "for i in range(0, 100):\n",
    "    lis_100.append(0)\n",
    "print(len(lis_100))\n",
    "print(lis_100)"
   ]
  },
  {
   "cell_type": "markdown",
   "metadata": {},
   "source": [
    "#### 4개의 정수형 변수를 선언한 다음 변수에 값을 입력 받고 한계를 출력하는 프로그램"
   ]
  },
  {
   "cell_type": "code",
   "execution_count": null,
   "metadata": {},
   "outputs": [],
   "source": [
    "#나\n",
    "a = int(input(\"a 변수 값을 입력하세요:\"))\n",
    "b = int(input(\"b 변수 값을 입력하세요:\"))\n",
    "c = int(input(\"c 변수 값을 입력하세요:\"))\n",
    "d = int(input(\"d 변수 값을 입력하세요:\"))\n",
    "list= a+b+c+d\n",
    "print(\"합계 ==> %d\" % list)"
   ]
  },
  {
   "cell_type": "code",
   "execution_count": null,
   "metadata": {},
   "outputs": [],
   "source": [
    "#리스트를 사용해서 수정\n",
    "list=[0, 0, 0, 0]\n",
    "list_t =0\n",
    "list[0] = int(input('입력:'))\n",
    "list[1] = int(input('입력:'))\n",
    "list[2] = int(input('입력:'))\n",
    "list[3] = int(input('입력:'))\n",
    "list_t = list[0] + list[1] + list[2] + list[3]\n",
    "print(\"합계= %d\" % list_t)"
   ]
  },
  {
   "cell_type": "code",
   "execution_count": null,
   "metadata": {},
   "outputs": [],
   "source": [
    "#for 문을 사용\n",
    "aa=[]\n",
    "for i in range(0,4):\n",
    "    aa.append(0)\n",
    "rt_hap = 0\n",
    "\n",
    "for i in range(0,4):\n",
    "    aa[i] = int(input(str(i+1)+\"번째 숫자: \"))\n",
    "rt_hap = aa[0] + aa[1] + aa[2] + aa[3]\n",
    "print(\"합계 ==> %d\" % rt_hap)"
   ]
  },
  {
   "cell_type": "code",
   "execution_count": null,
   "metadata": {},
   "outputs": [],
   "source": [
    "#리스트가 100개\n",
    "#리스트 aa 를 짝수로 초기화\n",
    "#리스트 bb에 역순으로 대입\n",
    "aa=[]\n",
    "bb=[]\n",
    "for i in range(0, 200):\n",
    "    aa.append(0)\n",
    "    bb.append(0)\n",
    "lis = 0\n",
    "\n",
    "for i in range(0, 200):\n",
    "    if "
   ]
  },
  {
   "cell_type": "code",
   "execution_count": null,
   "metadata": {},
   "outputs": [],
   "source": [
    "aa=[]\n",
    "bb=[]\n",
    "value=0\n",
    "for i in range(0,100):\n",
    "    aa.append(value)\n",
    "    value += 2\n",
    "for i in range(0,100):\n",
    "    bb.append(aa[99-i])\n",
    "    print(aa)\n",
    "    print(bb)\n",
    "    \n",
    "print(\"bb[0]은 %d, bb[99]는 %d 입력됨\" %(bb[0], bb[99]))"
   ]
  },
  {
   "cell_type": "code",
   "execution_count": 3,
   "metadata": {},
   "outputs": [
    {
     "name": "stdout",
     "output_type": "stream",
     "text": [
      "[9, 8]\n",
      "[3, 9]\n",
      "[9, 8, 7]\n",
      "[3, 9, 8, 7]\n",
      "[9, 8]\n"
     ]
    }
   ],
   "source": [
    "#Slicing Var[start:end]\n",
    "#슬라이싱은 잘라도 원본은 변화하지 않음. 새로 변수를 지정해야 달라짐.\n",
    "cards = [3,9,8,7]\n",
    "print(cards[1:3])\n",
    "print(cards[:2])\n",
    "print(cards[1:])\n",
    "print(cards)\n",
    "sub_cards = cards[1:3]\n",
    "print(sub_cards)"
   ]
  },
  {
   "cell_type": "markdown",
   "metadata": {},
   "source": [
    "# ★★★★★List에서 문제"
   ]
  },
  {
   "cell_type": "markdown",
   "metadata": {},
   "source": [
    "되게 중요한 개념임 cards와 new_cards가 같은 주소를 쓰고 있으므로 동일한 값이 나옴\n",
    "\n",
    "그렇다면 cards와 new_cards가 다르게 하는 방법은 무엇일까?\n",
    "\n",
    "슬라이싱을 이용하면 새로운 주소를 할당받으므로 원본 데이터를 남기기 위해선 슬라이드를 사용한다"
   ]
  },
  {
   "cell_type": "code",
   "execution_count": 6,
   "metadata": {},
   "outputs": [
    {
     "name": "stdout",
     "output_type": "stream",
     "text": [
      "[3, 9, 8, 7, 2, 2]\n",
      "[3, 9, 8, 7, 2, 2, 2]\n",
      "[3, 9, 8, 7, 2, 2, 2]\n"
     ]
    }
   ],
   "source": [
    "print(cards)\n",
    "new_cards = cards\n",
    "new_cards.append(2)\n",
    "print(new_cards)\n",
    "print(cards)"
   ]
  },
  {
   "cell_type": "markdown",
   "metadata": {},
   "source": [
    "적용해보자"
   ]
  },
  {
   "cell_type": "code",
   "execution_count": 9,
   "metadata": {},
   "outputs": [
    {
     "name": "stdout",
     "output_type": "stream",
     "text": [
      "[3, 9, 8, 7]\n",
      "[3, 9, 8, 7, 123]\n",
      "[3, 9, 8, 7, 123]\n"
     ]
    }
   ],
   "source": [
    "cards = [3, 9, 8, 7]\n",
    "cards_copy=cards[:]\n",
    "new_cards = cards_copy\n",
    "new_cards.append(123)\n",
    "print(cards) #원본\n",
    "print(cards_copy) #수정하고 싶은 데이터\n",
    "print(new_cards) #수정하고 싶은 데이터\n",
    "#그냥 cards_copy를 만들지 않고 바로 새로운 변수를 입력해도 된다. ★ 책으로 배우는 사람이 실수하는 List"
   ]
  },
  {
   "cell_type": "code",
   "execution_count": 11,
   "metadata": {},
   "outputs": [
    {
     "name": "stdout",
     "output_type": "stream",
     "text": [
      "[1, 2]\n",
      "[3, 4]\n",
      "[1, 2, 3, 4]\n",
      "[1, 2, 3, 4]\n"
     ]
    }
   ],
   "source": [
    "#리스트 합치기 extend()\n",
    "a=[1,2]\n",
    "b=[3,4]\n",
    "c=a+b\n",
    "print(a)\n",
    "print(b)\n",
    "print(c)\n",
    "a.extend(b)\n",
    "print(a)"
   ]
  },
  {
   "cell_type": "code",
   "execution_count": 13,
   "metadata": {},
   "outputs": [
    {
     "name": "stdout",
     "output_type": "stream",
     "text": [
      "[1, 2, 3, 3, 4, 5]\n",
      "[1, 2, 3, 1, 2, 3, 1, 2, 3]\n",
      "[1, 2, 3, 1, 2, 3, 1, 2, 3]\n"
     ]
    }
   ],
   "source": [
    "#리스트끼리 더하기, 곱하기 연산도 가능\n",
    "aa=[1,2,3]\n",
    "bb=[3,4,5]\n",
    "print(aa+bb)\n",
    "print(aa*3)\n",
    "print(aa*bb[0])"
   ]
  },
  {
   "cell_type": "code",
   "execution_count": 16,
   "metadata": {},
   "outputs": [
    {
     "name": "stdout",
     "output_type": "stream",
     "text": [
      "[2, 3, 4]\n",
      "[3, 4]\n",
      "[3]\n",
      "[]\n"
     ]
    }
   ],
   "source": [
    "#리스트 삭제하기\n",
    "#del()함수, 리스트 항목을 제거하거나 리스트 변수 자체를 제거, pop()과 다른 점은 인덱스 값을 반환하지 않음\n",
    "print(a)\n",
    "del a[0]\n",
    "print(a)\n",
    "del a[1:3]\n",
    "print(a)\n",
    "del a[:]\n",
    "print(a)"
   ]
  },
  {
   "cell_type": "code",
   "execution_count": 18,
   "metadata": {},
   "outputs": [
    {
     "name": "stdout",
     "output_type": "stream",
     "text": [
      "[[1, 2, 3], [4, 5, 6], [7, 8, 9]]\n",
      "[1, 2, 3]\n",
      "[4, 5, 6]\n",
      "[7, 8, 9]\n",
      "[1]\n",
      "[4]\n",
      "[7]\n"
     ]
    }
   ],
   "source": [
    "#중첩 리스트\n",
    "matrix=[[1,2,3],[4,5,6],[7,8,9]]\n",
    "print(matrix)\n",
    "print(matrix[0])\n",
    "print(matrix[1])\n",
    "print(matrix[2])\n",
    "print(matrix[0][0:1])\n",
    "print(matrix[1][0:1])\n",
    "print(matrix[2][0:1])"
   ]
  },
  {
   "cell_type": "code",
   "execution_count": 19,
   "metadata": {},
   "outputs": [
    {
     "name": "stdout",
     "output_type": "stream",
     "text": [
      "[]\n",
      "[]\n"
     ]
    }
   ],
   "source": [
    "#빈 리스트\n",
    "empty_list =[]\n",
    "print(empty_list)\n",
    "type(empty_list)\n",
    "empty_list_2=list()\n",
    "print(empty_list_2)"
   ]
  },
  {
   "cell_type": "markdown",
   "metadata": {},
   "source": [
    "# 가위바위보 결과 리스트"
   ]
  },
  {
   "cell_type": "markdown",
   "metadata": {},
   "source": [
    "가위바위보\n",
    "결과를 담기 위한 리스트\n",
    "중첩 FOR문을 사용 모든 경우의 수를 중첩 리스트 형태로 저장."
   ]
  },
  {
   "cell_type": "code",
   "execution_count": 23,
   "metadata": {
    "collapsed": true
   },
   "outputs": [
    {
     "ename": "IndexError",
     "evalue": "list assignment index out of range",
     "output_type": "error",
     "traceback": [
      "\u001b[1;31m---------------------------------------------------------------------------\u001b[0m",
      "\u001b[1;31mIndexError\u001b[0m                                Traceback (most recent call last)",
      "\u001b[1;32m<ipython-input-23-b1f90a2bbd1c>\u001b[0m in \u001b[0;36m<module>\u001b[1;34m()\u001b[0m\n\u001b[0;32m      4\u001b[0m \u001b[1;32mfor\u001b[0m \u001b[0mi\u001b[0m \u001b[1;32min\u001b[0m \u001b[0mrange\u001b[0m\u001b[1;33m(\u001b[0m\u001b[1;36m0\u001b[0m\u001b[1;33m,\u001b[0m\u001b[1;36m4\u001b[0m\u001b[1;33m)\u001b[0m\u001b[1;33m:\u001b[0m\u001b[1;33m\u001b[0m\u001b[0m\n\u001b[0;32m      5\u001b[0m     \u001b[0mi\u001b[0m \u001b[1;33m=\u001b[0m\u001b[1;33m+\u001b[0m \u001b[0mi\u001b[0m\u001b[1;33m+\u001b[0m\u001b[1;36m1\u001b[0m\u001b[1;33m\u001b[0m\u001b[0m\n\u001b[1;32m----> 6\u001b[1;33m     \u001b[0mc\u001b[0m\u001b[1;33m[\u001b[0m\u001b[1;36m0\u001b[0m\u001b[1;33m]\u001b[0m \u001b[1;33m=\u001b[0m \u001b[0ma\u001b[0m\u001b[1;33m[\u001b[0m\u001b[0mi\u001b[0m\u001b[1;33m]\u001b[0m\u001b[1;33m+\u001b[0m\u001b[0mb\u001b[0m\u001b[1;33m[\u001b[0m\u001b[0mi\u001b[0m\u001b[1;33m]\u001b[0m\u001b[1;33m\u001b[0m\u001b[0m\n\u001b[0m\u001b[0;32m      7\u001b[0m     \u001b[0mc\u001b[0m\u001b[1;33m[\u001b[0m\u001b[1;36m1\u001b[0m\u001b[1;33m]\u001b[0m \u001b[1;33m=\u001b[0m \u001b[0ma\u001b[0m\u001b[1;33m[\u001b[0m\u001b[0mi\u001b[0m\u001b[1;33m]\u001b[0m\u001b[1;33m+\u001b[0m\u001b[0mb\u001b[0m\u001b[1;33m[\u001b[0m\u001b[0mi\u001b[0m\u001b[1;33m]\u001b[0m\u001b[1;33m\u001b[0m\u001b[0m\n\u001b[0;32m      8\u001b[0m     \u001b[0mc\u001b[0m\u001b[1;33m[\u001b[0m\u001b[1;36m2\u001b[0m\u001b[1;33m]\u001b[0m \u001b[1;33m=\u001b[0m \u001b[0ma\u001b[0m\u001b[1;33m[\u001b[0m\u001b[0mi\u001b[0m\u001b[1;33m]\u001b[0m\u001b[1;33m+\u001b[0m\u001b[0mb\u001b[0m\u001b[1;33m[\u001b[0m\u001b[0mi\u001b[0m\u001b[1;33m]\u001b[0m\u001b[1;33m\u001b[0m\u001b[0m\n",
      "\u001b[1;31mIndexError\u001b[0m: list assignment index out of range"
     ]
    }
   ],
   "source": [
    "a = ['가위', '바위', '보']\n",
    "a = b\n",
    "c = []\n",
    "for i in range(0,4):\n",
    "    i =+ i+1\n",
    "    c[0] = a[i]+b[i]\n",
    "    c[1] = a[i]+b[i]\n",
    "    c[2] = a[i]+b[i]\n",
    "print(c)"
   ]
  },
  {
   "cell_type": "code",
   "execution_count": 22,
   "metadata": {},
   "outputs": [
    {
     "name": "stdout",
     "output_type": "stream",
     "text": [
      "[['가위', '가위'], ['가위', '바위'], ['가위', '보'], ['바위', '가위'], ['바위', '바위'], ['바위', '보'], ['보', '가위'], ['보', '바위'], ['보', '보']]\n"
     ]
    }
   ],
   "source": [
    "#가위-바위-보 결과 리스트 생성\n",
    "all = ['가위','바위','보']\n",
    "#결과를 담기 위한 리스트 생성\n",
    "results = list()\n",
    "#왼쪽 선수를 위한 for문\n",
    "for left in all:\n",
    "    #오른쪽 선수를 위한 for문\n",
    "    for right in all:\n",
    "        result=[left, right] #가위-바위-보 쌍을 저장한 리스트 생성\n",
    "        results.append(result) #결과 리스트에 추가\n",
    "#전체 결과 리스트 값 확인\n",
    "print(results)"
   ]
  },
  {
   "cell_type": "markdown",
   "metadata": {},
   "source": [
    "# 올림픽 심사위원 점수표 만들기"
   ]
  },
  {
   "cell_type": "markdown",
   "metadata": {},
   "source": [
    "5명 심사위원 점수를 저장할 빈공간\n",
    "\n",
    "입력 횟수 제한용, 최대 점수, 최소 점수 저장용\n",
    "\n",
    "5회의 입력제한 while, 입력받을 때마다 최대 최소 점수 확인 후 저장 유무 판단\n",
    "\n",
    "5번 입력 모두 출력, 최대 최소 점수 출력\n",
    "\n",
    "최대 최소 점수 제거된 점수 3개 출력\n",
    "\n",
    "총점 및 평균 점수 출력"
   ]
  },
  {
   "cell_type": "code",
   "execution_count": 68,
   "metadata": {},
   "outputs": [
    {
     "ename": "SyntaxError",
     "evalue": "EOL while scanning string literal (<ipython-input-68-bcec651fa634>, line 10)",
     "output_type": "error",
     "traceback": [
      "\u001b[1;36m  File \u001b[1;32m\"<ipython-input-68-bcec651fa634>\"\u001b[1;36m, line \u001b[1;32m10\u001b[0m\n\u001b[1;33m    print(str(i+1)+\"번째 선수의 평가 점수는\"+ 입니다.\")\u001b[0m\n\u001b[1;37m                                          ^\u001b[0m\n\u001b[1;31mSyntaxError\u001b[0m\u001b[1;31m:\u001b[0m EOL while scanning string literal\n"
     ]
    }
   ],
   "source": [
    "print(\"5명의 평가 점수를 입력하세요.(100점 만점)\")\n",
    "player =[]\n",
    "for i in range(0, 5):\n",
    "    player.append(0)\n",
    "    \n",
    "for i in range(0, 5):\n",
    "    player[i] = int(input(str(i+1)+\"번째 선수의 평가 점수를 입력하세요: \"))\n",
    "for i in range(0, 5):\n",
    "    a = player\n",
    "    print(str(i+1)+\"번째 선수의 평가 점수는\"+ 입니다.\")"
   ]
  },
  {
   "cell_type": "code",
   "execution_count": null,
   "metadata": {},
   "outputs": [],
   "source": [
    "scores = []\n",
    "print(\"5명의 평가 점수를 입력하세요!(100점만점)\")\n",
    "#변수 초기화\n",
    "count=0\n",
    "max_score=0\n",
    "min_score =100\n",
    "while count <5:\n",
    "    score =int(input('점수 입력:'))\n",
    "    scores.append(score)\n",
    "    \n",
    "    if max_score < score:\n",
    "        max_score = score\n",
    "        \n",
    "        if min_score > score:\n",
    "            min_score = score\n",
    "        count += 1\n",
    "print('\\n##총 입력 점수##')\n",
    "for item in scores:\n",
    "    print(item, '점')\n",
    "print('\\n##제거 대상 점수##')\n",
    "print('-최고 점수 :', max_score, '점')\n",
    "print('-최소 점수 :', min_score, '점')"
   ]
  },
  {
   "cell_type": "code",
   "execution_count": null,
   "metadata": {},
   "outputs": [],
   "source": [
    "\n"
   ]
  }
 ],
 "metadata": {
  "kernelspec": {
   "display_name": "Python 3",
   "language": "python",
   "name": "python3"
  },
  "language_info": {
   "codemirror_mode": {
    "name": "ipython",
    "version": 3
   },
   "file_extension": ".py",
   "mimetype": "text/x-python",
   "name": "python",
   "nbconvert_exporter": "python",
   "pygments_lexer": "ipython3",
   "version": "3.6.5"
  }
 },
 "nbformat": 4,
 "nbformat_minor": 2
}
