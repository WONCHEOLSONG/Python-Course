{
 "cells": [
  {
   "cell_type": "markdown",
   "metadata": {},
   "source": [
    "# 1. 함수"
   ]
  },
  {
   "cell_type": "code",
   "execution_count": 2,
   "metadata": {},
   "outputs": [
    {
     "name": "stdout",
     "output_type": "stream",
     "text": [
      "\n",
      "이런게 있다\n"
     ]
    },
    {
     "ename": "TypeError",
     "evalue": "type() takes 1 or 3 arguments",
     "output_type": "error",
     "traceback": [
      "\u001b[1;31m---------------------------------------------------------------------------\u001b[0m",
      "\u001b[1;31mTypeError\u001b[0m                                 Traceback (most recent call last)",
      "\u001b[1;32m<ipython-input-2-24d3ce604ff3>\u001b[0m in \u001b[0;36m<module>\u001b[1;34m()\u001b[0m\n\u001b[0;32m      1\u001b[0m \u001b[0mprint\u001b[0m\u001b[1;33m(\u001b[0m\u001b[1;33m)\u001b[0m\u001b[1;33m\u001b[0m\u001b[0m\n\u001b[0;32m      2\u001b[0m \u001b[0minput\u001b[0m\u001b[1;33m(\u001b[0m\u001b[1;33m)\u001b[0m\u001b[1;33m\u001b[0m\u001b[0m\n\u001b[1;32m----> 3\u001b[1;33m \u001b[0mtype\u001b[0m\u001b[1;33m(\u001b[0m\u001b[1;33m)\u001b[0m\u001b[1;33m\u001b[0m\u001b[0m\n\u001b[0m\u001b[0;32m      4\u001b[0m \u001b[0mlen\u001b[0m\u001b[1;33m(\u001b[0m\u001b[1;33m)\u001b[0m\u001b[1;33m\u001b[0m\u001b[0m\n\u001b[0;32m      5\u001b[0m \u001b[1;32mdel\u001b[0m\u001b[1;33m(\u001b[0m\u001b[1;33m)\u001b[0m\u001b[1;33m\u001b[0m\u001b[0m\n",
      "\u001b[1;31mTypeError\u001b[0m: type() takes 1 or 3 arguments"
     ]
    }
   ],
   "source": [
    "print()\n",
    "input()\n",
    "type()\n",
    "len()\n",
    "del()\n",
    "list()\n",
    "tuple()\n",
    "set()\n",
    "dict()\n",
    "sorted()\n",
    "range()\n",
    "enumerate()"
   ]
  },
  {
   "cell_type": "markdown",
   "metadata": {},
   "source": [
    "    - 함수란 특정 값 X를 인자로 넣었을 때 반드시 Y라는 결과 값을 반환하는 일종의 계산식과 같은 개념\n",
    "    - 파이썬을 비롯한 많은 코드들이 그럼\n",
    "    - 함수 만들기\n",
    "    - 함수의 예약 코드 def"
   ]
  },
  {
   "cell_type": "code",
   "execution_count": 3,
   "metadata": {},
   "outputs": [
    {
     "name": "stdout",
     "output_type": "stream",
     "text": [
      "이름을 입력하세요!송원철\n",
      "안녕! 송원철\n"
     ]
    }
   ],
   "source": [
    "def hello():\n",
    "    name = input('이름을 입력하세요!')\n",
    "    print('안녕!', name)\n",
    "hello()"
   ]
  },
  {
   "cell_type": "code",
   "execution_count": 4,
   "metadata": {},
   "outputs": [
    {
     "name": "stdout",
     "output_type": "stream",
     "text": [
      "이름을 입력하세요!송원철\n",
      "안녕! 송원철\n"
     ]
    }
   ],
   "source": [
    "def hello(name):\n",
    "    print('안녕!', name)\n",
    "my_name=input('이름을 입력하세요!')\n",
    "hello(my_name)"
   ]
  },
  {
   "cell_type": "code",
   "execution_count": 5,
   "metadata": {},
   "outputs": [
    {
     "name": "stdout",
     "output_type": "stream",
     "text": [
      "5\n",
      "10\n"
     ]
    }
   ],
   "source": [
    "def sum(a,b):\n",
    "    print(a+b)\n",
    "sum(1,4)\n",
    "sum(7,3)"
   ]
  },
  {
   "cell_type": "code",
   "execution_count": 6,
   "metadata": {},
   "outputs": [
    {
     "data": {
      "text/plain": [
       "'원철님'"
      ]
     },
     "execution_count": 6,
     "metadata": {},
     "output_type": "execute_result"
    }
   ],
   "source": [
    "def change_name(name):\n",
    "    return name+'님'\n",
    "change_name('원철')"
   ]
  },
  {
   "cell_type": "markdown",
   "metadata": {},
   "source": [
    "# -scope"
   ]
  },
  {
   "cell_type": "code",
   "execution_count": 7,
   "metadata": {},
   "outputs": [
    {
     "name": "stdout",
     "output_type": "stream",
     "text": [
      "함수 안에서 생성\n",
      "함수 밖에서 생성\n"
     ]
    }
   ],
   "source": [
    "def my_func(param):\n",
    "    param = '함수 안에서 생성' #이 함수 안에서만 작동하는 것\n",
    "    print(param)\n",
    "param = '함수 밖에서 생성' \n",
    "my_func(param)\n",
    "print(param)"
   ]
  },
  {
   "cell_type": "code",
   "execution_count": 8,
   "metadata": {},
   "outputs": [
    {
     "name": "stdout",
     "output_type": "stream",
     "text": [
      "함수 안에서 변경\n",
      "함수 안에서 변경\n"
     ]
    }
   ],
   "source": [
    "def my_func():\n",
    "    global param\n",
    "    param = '함수 안에서 변경'\n",
    "    print(param)\n",
    "param = '함수 밖에서 생성'\n",
    "my_func()\n",
    "print(param)"
   ]
  },
  {
   "cell_type": "markdown",
   "metadata": {},
   "source": [
    "# 구구단"
   ]
  },
  {
   "cell_type": "markdown",
   "metadata": {},
   "source": [
    "    구구단 출력\n",
    "    일반적으로 중첩 for문 사용\n",
    "    함수 형태로 만들어 보자\n",
    "    multiple 이라는 이름으로 함수 선언\n",
    "    multiple 함수는 1개 단 만 출력하는 함수.\n",
    "    for문 range()를 활용하여 1~9단 까지 출력."
   ]
  },
  {
   "cell_type": "code",
   "execution_count": 9,
   "metadata": {},
   "outputs": [
    {
     "name": "stdout",
     "output_type": "stream",
     "text": [
      "1 x 1 = 1\n",
      "1 x 2 = 2\n",
      "1 x 3 = 3\n",
      "1 x 4 = 4\n",
      "1 x 5 = 5\n",
      "1 x 6 = 6\n",
      "1 x 7 = 7\n",
      "1 x 8 = 8\n",
      "1 x 9 = 9\n",
      "2 x 1 = 2\n",
      "2 x 2 = 4\n",
      "2 x 3 = 6\n",
      "2 x 4 = 8\n",
      "2 x 5 = 10\n",
      "2 x 6 = 12\n",
      "2 x 7 = 14\n",
      "2 x 8 = 16\n",
      "2 x 9 = 18\n",
      "3 x 1 = 3\n",
      "3 x 2 = 6\n",
      "3 x 3 = 9\n",
      "3 x 4 = 12\n",
      "3 x 5 = 15\n",
      "3 x 6 = 18\n",
      "3 x 7 = 21\n",
      "3 x 8 = 24\n",
      "3 x 9 = 27\n",
      "4 x 1 = 4\n",
      "4 x 2 = 8\n",
      "4 x 3 = 12\n",
      "4 x 4 = 16\n",
      "4 x 5 = 20\n",
      "4 x 6 = 24\n",
      "4 x 7 = 28\n",
      "4 x 8 = 32\n",
      "4 x 9 = 36\n",
      "5 x 1 = 5\n",
      "5 x 2 = 10\n",
      "5 x 3 = 15\n",
      "5 x 4 = 20\n",
      "5 x 5 = 25\n",
      "5 x 6 = 30\n",
      "5 x 7 = 35\n",
      "5 x 8 = 40\n",
      "5 x 9 = 45\n",
      "6 x 1 = 6\n",
      "6 x 2 = 12\n",
      "6 x 3 = 18\n",
      "6 x 4 = 24\n",
      "6 x 5 = 30\n",
      "6 x 6 = 36\n",
      "6 x 7 = 42\n",
      "6 x 8 = 48\n",
      "6 x 9 = 54\n",
      "7 x 1 = 7\n",
      "7 x 2 = 14\n",
      "7 x 3 = 21\n",
      "7 x 4 = 28\n",
      "7 x 5 = 35\n",
      "7 x 6 = 42\n",
      "7 x 7 = 49\n",
      "7 x 8 = 56\n",
      "7 x 9 = 63\n",
      "8 x 1 = 8\n",
      "8 x 2 = 16\n",
      "8 x 3 = 24\n",
      "8 x 4 = 32\n",
      "8 x 5 = 40\n",
      "8 x 6 = 48\n",
      "8 x 7 = 56\n",
      "8 x 8 = 64\n",
      "8 x 9 = 72\n",
      "9 x 1 = 9\n",
      "9 x 2 = 18\n",
      "9 x 3 = 27\n",
      "9 x 4 = 36\n",
      "9 x 5 = 45\n",
      "9 x 6 = 54\n",
      "9 x 7 = 63\n",
      "9 x 8 = 72\n",
      "9 x 9 = 81\n",
      "\n",
      "- 1 단 ---\n",
      "\n",
      "- 2 단 ---\n",
      "\n",
      "- 3 단 ---\n",
      "\n",
      "- 4 단 ---\n",
      "\n",
      "- 5 단 ---\n",
      "\n",
      "- 6 단 ---\n",
      "\n",
      "- 7 단 ---\n",
      "\n",
      "- 8 단 ---\n",
      "\n",
      "- 9 단 ---\n"
     ]
    }
   ],
   "source": [
    "#내가 하는 방식\n",
    "for i in range(1, 10):\n",
    "    for j in range(1, 10):\n",
    "        print(i,'x',j,'=',i*j)\n",
    "#해답\n",
    "def multiple(num):\n",
    "    for n in range(1, 10):\n",
    "        print(num, 'x', n, '=', num*n)\n",
    "for n in range(1, 10):\n",
    "    print('\\n-', n, '단 ---')"
   ]
  },
  {
   "cell_type": "markdown",
   "metadata": {},
   "source": [
    "# 비밀번호 입력\n",
    "    check_pwd 함수를 선언\n",
    "    인수로 비밀번호 4자리 문자열 받음\n",
    "    비밀번호는 1234로 가정\n",
    "    인수로 1234를 받으면 True, 그렇지 않으면 False 반환\n",
    "    1234가 아닐 경우 재시도 메시지 출력\n",
    "    입력 받은 4자리 문자열이 1234가 될 때까지 무한 반복 수행 소스코드\n",
    "    1234이면 정확한 비밀번호를 입력했다는 메시지와 함께 프로그램 종료"
   ]
  },
  {
   "cell_type": "code",
   "execution_count": 10,
   "metadata": {},
   "outputs": [],
   "source": [
    "def check_pwd(num):\n",
    "    number = input('비밀번호를 입력해주세요.:')\n",
    "    if number == '1234':\n",
    "        print('정확한 비밀번호를 입력하셨습니다.')\n",
    "    else:\n",
    "        for n in number:\n",
    "            input('다시 정확한 비밀번호를 입력해주세요.')"
   ]
  },
  {
   "cell_type": "code",
   "execution_count": 11,
   "metadata": {},
   "outputs": [
    {
     "name": "stdout",
     "output_type": "stream",
     "text": [
      "비밀번호 4자리를 입력하세요:5955\n",
      "비밀번호가 틀렸습니다. 다시 시도합니다.\n",
      "비밀번호 4자리를 입력하세요:1234\n",
      "정확한 비밀번호입니다!!\n"
     ]
    }
   ],
   "source": [
    "def check_pwd(pwd):\n",
    "    return pwd =='1234'\n",
    "while check_pwd(input('비밀번호 4자리를 입력하세요:')) == False:\n",
    "    print('비밀번호가 틀렸습니다. 다시 시도합니다.')\n",
    "print('정확한 비밀번호입니다!!')"
   ]
  },
  {
   "cell_type": "markdown",
   "metadata": {},
   "source": [
    "# 인수이해"
   ]
  },
  {
   "cell_type": "code",
   "execution_count": 12,
   "metadata": {},
   "outputs": [
    {
     "name": "stdout",
     "output_type": "stream",
     "text": [
      "[0, 1, 2, 3, 4]\n",
      "[1, 2, 3, 4, 5]\n",
      "[1, 3, 5, 7, 9]\n"
     ]
    }
   ],
   "source": [
    "print(list(range(5)))\n",
    "print(list(range(1,6)))\n",
    "print(list(range(1,11,2)))"
   ]
  },
  {
   "cell_type": "code",
   "execution_count": 13,
   "metadata": {},
   "outputs": [
    {
     "name": "stdout",
     "output_type": "stream",
     "text": [
      "4\n",
      "50\n"
     ]
    },
    {
     "ename": "TypeError",
     "evalue": "weekly_working_hours() missing 1 required positional argument: 'hours'",
     "output_type": "error",
     "traceback": [
      "\u001b[1;31m---------------------------------------------------------------------------\u001b[0m",
      "\u001b[1;31mTypeError\u001b[0m                                 Traceback (most recent call last)",
      "\u001b[1;32m<ipython-input-13-ca14f66f1c13>\u001b[0m in \u001b[0;36m<module>\u001b[1;34m()\u001b[0m\n\u001b[0;32m      3\u001b[0m \u001b[0mprint\u001b[0m\u001b[1;33m(\u001b[0m\u001b[0mweekly_working_hours\u001b[0m\u001b[1;33m(\u001b[0m\u001b[1;36m4\u001b[0m\u001b[1;33m)\u001b[0m\u001b[1;33m)\u001b[0m\u001b[1;33m\u001b[0m\u001b[0m\n\u001b[0;32m      4\u001b[0m \u001b[0mprint\u001b[0m\u001b[1;33m(\u001b[0m\u001b[0mweekly_working_hours\u001b[0m\u001b[1;33m(\u001b[0m\u001b[1;36m50\u001b[0m\u001b[1;33m)\u001b[0m\u001b[1;33m)\u001b[0m\u001b[1;33m\u001b[0m\u001b[0m\n\u001b[1;32m----> 5\u001b[1;33m \u001b[0mprint\u001b[0m\u001b[1;33m(\u001b[0m\u001b[0mweekly_working_hours\u001b[0m\u001b[1;33m(\u001b[0m\u001b[1;33m)\u001b[0m\u001b[1;33m)\u001b[0m \u001b[1;31m#return을 사용했을 때 입력하지 않으면 오류가 생김\u001b[0m\u001b[1;33m\u001b[0m\u001b[0m\n\u001b[0m",
      "\u001b[1;31mTypeError\u001b[0m: weekly_working_hours() missing 1 required positional argument: 'hours'"
     ]
    }
   ],
   "source": [
    "def weekly_working_hours(hours):\n",
    "    return hours\n",
    "print(weekly_working_hours(4))\n",
    "print(weekly_working_hours(50))\n",
    "print(weekly_working_hours()) #return을 사용했을 때 입력하지 않으면 오류가 생김"
   ]
  },
  {
   "cell_type": "code",
   "execution_count": 14,
   "metadata": {},
   "outputs": [
    {
     "name": "stdout",
     "output_type": "stream",
     "text": [
      "40\n"
     ]
    }
   ],
   "source": [
    "#만약 기본값 40을 가지고 있다면 입력하지 않더라도 자동으로 40으로 나옴\n",
    "def weekly_working_hours(hours=40):\n",
    "    return hours\n",
    "print(weekly_working_hours())"
   ]
  },
  {
   "cell_type": "code",
   "execution_count": 15,
   "metadata": {},
   "outputs": [
    {
     "name": "stdout",
     "output_type": "stream",
     "text": [
      "이름: 안녕 생년월일: 920701 전공: 경영 국적: KOR\n",
      "이름: 원철 생년월일: 159156 전공: CS 국적: KOR\n",
      "이름: 원철 생년월일: 19920701 전공: CS 국적: USA\n",
      "이름: 원철 생년월일: 19920701 전공: BS 국적: USA\n",
      "이름: 원철 생년월일: 19920701 전공: MT 국적: CHN\n"
     ]
    }
   ],
   "source": [
    "def print_student_info(name, birth, major='CS', country='KOR'):\n",
    "    print('이름:', name,'생년월일:', birth,'전공:',major,'국적:',country)\n",
    "print_student_info('안녕','920701','경영','KOR')\n",
    "print_student_info('원철','159156')\n",
    "print_student_info('원철', '19920701',country='USA') #국가만 변경, 뛰어넘고 변경하기, 위치\n",
    "print_student_info(country='USA', name='원철', birth='19920701', major='BS')\n",
    "print_student_info(country='CHN', major='MT', birth='19920701', name='원철')"
   ]
  },
  {
   "cell_type": "markdown",
   "metadata": {},
   "source": [
    "# 오류발생 "
   ]
  },
  {
   "cell_type": "code",
   "execution_count": 16,
   "metadata": {},
   "outputs": [
    {
     "ename": "TypeError",
     "evalue": "print_student_info() missing 2 required positional arguments: 'name' and 'birth'",
     "output_type": "error",
     "traceback": [
      "\u001b[1;31m---------------------------------------------------------------------------\u001b[0m",
      "\u001b[1;31mTypeError\u001b[0m                                 Traceback (most recent call last)",
      "\u001b[1;32m<ipython-input-16-2e5134b5c0a6>\u001b[0m in \u001b[0;36m<module>\u001b[1;34m()\u001b[0m\n\u001b[0;32m      1\u001b[0m \u001b[1;31m#기본 인수 모두 누락\u001b[0m\u001b[1;33m\u001b[0m\u001b[1;33m\u001b[0m\u001b[0m\n\u001b[1;32m----> 2\u001b[1;33m \u001b[0mprint_student_info\u001b[0m\u001b[1;33m(\u001b[0m\u001b[1;33m)\u001b[0m\u001b[1;33m\u001b[0m\u001b[0m\n\u001b[0m\u001b[0;32m      3\u001b[0m \u001b[1;31m#기본 인수 일부 누락\u001b[0m\u001b[1;33m\u001b[0m\u001b[1;33m\u001b[0m\u001b[0m\n\u001b[0;32m      4\u001b[0m \u001b[0mprint_student_info\u001b[0m\u001b[1;33m(\u001b[0m\u001b[1;34m'김건아'\u001b[0m\u001b[1;33m)\u001b[0m\u001b[1;33m\u001b[0m\u001b[0m\n\u001b[0;32m      5\u001b[0m \u001b[1;31m#기본 인수 위치와 키워드로 중복\u001b[0m\u001b[1;33m\u001b[0m\u001b[1;33m\u001b[0m\u001b[0m\n",
      "\u001b[1;31mTypeError\u001b[0m: print_student_info() missing 2 required positional arguments: 'name' and 'birth'"
     ]
    }
   ],
   "source": [
    "#기본 인수 모두 누락\n",
    "print_student_info()\n",
    "#기본 인수 일부 누락\n",
    "print_student_info('김건아')\n",
    "#기본 인수 위치와 키워드로 중복\n",
    "print_student_info('김건아','19920701', name='김건아')"
   ]
  }
 ],
 "metadata": {
  "kernelspec": {
   "display_name": "Python 3",
   "language": "python",
   "name": "python3"
  },
  "language_info": {
   "codemirror_mode": {
    "name": "ipython",
    "version": 3
   },
   "file_extension": ".py",
   "mimetype": "text/x-python",
   "name": "python",
   "nbconvert_exporter": "python",
   "pygments_lexer": "ipython3",
   "version": "3.6.5"
  }
 },
 "nbformat": 4,
 "nbformat_minor": 2
}
