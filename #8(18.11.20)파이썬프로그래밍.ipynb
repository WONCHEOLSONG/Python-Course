{
 "cells": [
  {
   "cell_type": "markdown",
   "metadata": {},
   "source": [
    "# 1. 그냥"
   ]
  },
  {
   "cell_type": "code",
   "execution_count": 1,
   "metadata": {},
   "outputs": [
    {
     "name": "stdout",
     "output_type": "stream",
     "text": [
      "Python\n",
      "Java\n",
      "JavaScript\n"
     ]
    }
   ],
   "source": [
    "def print_languages(*languages):\n",
    "    for lang in languages:\n",
    "        print(lang)\n",
    "print_languages('Python','Java','JavaScript')"
   ]
  },
  {
   "cell_type": "markdown",
   "metadata": {},
   "source": [
    "# 2. 튜플"
   ]
  },
  {
   "cell_type": "code",
   "execution_count": 2,
   "metadata": {},
   "outputs": [
    {
     "name": "stdout",
     "output_type": "stream",
     "text": [
      "인석 Python\n",
      "지훈 Java\n",
      "수빈 JavaScript\n"
     ]
    }
   ],
   "source": [
    "def map_student_language(**student_language):\n",
    "    for name in student_language.keys():\n",
    "        print(name, student_language[name])\n",
    "map_student_language(인석='Python', 지훈='Java', 수빈 = 'JavaScript')"
   ]
  },
  {
   "cell_type": "markdown",
   "metadata": {},
   "source": [
    "# 3. 딕셔너리"
   ]
  },
  {
   "cell_type": "code",
   "execution_count": 3,
   "metadata": {},
   "outputs": [
    {
     "name": "stdout",
     "output_type": "stream",
     "text": [
      "인석 Python\n",
      "지훈 Java\n",
      "수빈 JavaScript\n"
     ]
    }
   ],
   "source": [
    "def map_student_language(**student_language):\n",
    "    for name in student_language.keys():\n",
    "        print(name, student_language[name])\n",
    "map_student_language(인석='Python', 지훈='Java', 수빈 = 'JavaScript')"
   ]
  },
  {
   "cell_type": "markdown",
   "metadata": {},
   "source": [
    "# 4. 인수 활용 keyword-only"
   ]
  },
  {
   "cell_type": "code",
   "execution_count": 4,
   "metadata": {},
   "outputs": [
    {
     "name": "stdout",
     "output_type": "stream",
     "text": [
      "a/b/c\n",
      "a.b.c\n"
     ]
    }
   ],
   "source": [
    "def concat(*args, sep='/'):\n",
    "    return sep.join(args)\n",
    "print(concat('a','b','c'))\n",
    "print(concat('a','b','c',sep='.'))\n",
    "#print(concat(sep='-','a','b','c',))"
   ]
  },
  {
   "cell_type": "markdown",
   "metadata": {},
   "source": [
    "# 5. unpacking 인수 활용"
   ]
  },
  {
   "cell_type": "code",
   "execution_count": 5,
   "metadata": {},
   "outputs": [
    {
     "data": {
      "text/plain": [
       "[5, 6, 7, 8, 9]"
      ]
     },
     "execution_count": 5,
     "metadata": {},
     "output_type": "execute_result"
    }
   ],
   "source": [
    "list(range(5, 10))\n",
    "args = 5, 10\n",
    "list(range(*args))"
   ]
  },
  {
   "cell_type": "code",
   "execution_count": 6,
   "metadata": {},
   "outputs": [],
   "source": [
    "def print_student_info(name, birth, major='CS', country='KOR'):\n",
    "    print('이름 :', name, ', 생년월일:',birth,', 전공:', major,',국적:',country)"
   ]
  },
  {
   "cell_type": "markdown",
   "metadata": {},
   "source": [
    "# ※문제: 여행준비"
   ]
  },
  {
   "cell_type": "markdown",
   "metadata": {},
   "source": [
    "    -print_baggage_items 함수 선언\n",
    "    -인수는 2개 설정>items 충전기, 노트북과 같이 단일 품목 이름만 자유롭게 열거하여 넣을 수 있게 설정.\n",
    "    --item_with_count 양말, 바지 와 같이 여러 개를 넣는 항목을 위한 인수, 항목명과 개수를 열거하여 넣을 수 있도록 설정(ex socks=8, pants=2)\n",
    "    -인수의 개수는 제한이 없음\n",
    "    -함수의 인수를 한 줄 씩 출력\n",
    ">#단일품목\n",
    ">laptop, charge\n",
    ">#복수품목\n",
    ">socks=8\n",
    ">pants=2"
   ]
  },
  {
   "cell_type": "code",
   "execution_count": 7,
   "metadata": {},
   "outputs": [
    {
     "name": "stdout",
     "output_type": "stream",
     "text": [
      "# 단일 품목\n",
      "laptop\n",
      "camera\n",
      "charger\n",
      "\n",
      "# 다중 품목\n",
      "socks 8 개\n",
      "pants 2 개\n",
      "shirts 4 개\n"
     ]
    }
   ],
   "source": [
    "#내가 하는 방식\n",
    "def print_baggage_items(*items, **item_with_count):\n",
    "    print('# 단일 품목')\n",
    "    for sol_items in items:\n",
    "        print(sol_items)\n",
    "    print('\\n# 다중 품목')\n",
    "    for pairs in item_with_count.keys():\n",
    "        print(pairs, item_with_count[pairs], '개')\n",
    "    \n",
    "print_baggage_items('laptop','camera','charger',socks=8,pants=2, shirts=4)"
   ]
  },
  {
   "cell_type": "code",
   "execution_count": 8,
   "metadata": {},
   "outputs": [
    {
     "name": "stdout",
     "output_type": "stream",
     "text": [
      "# 단일품목\n",
      "laptop\n",
      "camera\n",
      "charger\n",
      "\n",
      "# 다중 품목\n",
      "socks 8 개\n",
      "pants 2 개\n",
      "shirts 4 개\n"
     ]
    }
   ],
   "source": [
    "#해답\n",
    "def print_baggage_items(*items, **item_with_count):\n",
    "    print('# 단일품목')\n",
    "    for item in items:\n",
    "        print(item)\n",
    "    print('\\n# 다중 품목')\n",
    "    for item in item_with_count.keys():\n",
    "        print(item, item_with_count[item], '개')\n",
    "\n",
    "print_baggage_items('laptop','camera','charger', socks=8, pants=2, shirts=4)"
   ]
  },
  {
   "cell_type": "markdown",
   "metadata": {},
   "source": [
    "# ※문제: 국가 표준 기호"
   ]
  },
  {
   "cell_type": "markdown",
   "metadata": {},
   "source": [
    "    -아래 소스코드 참고\n",
    "    countries = (\n",
    "    {'country':'뉴질랜드','code':554,'alpha3':'NZL','alpha2':'NZ'},\n",
    "    {'country':'대한민국','code':123,'alpha3':'KOR','alpha2':'KR'},\n",
    "    {'country':'미국','code':456,'alpha3':'USA','alpha2':'US'})\n",
    "    -언패킹 활용\n",
    "    -함수는 2개 선언\n",
    "    -첫 함수 print_country, 위 딕셔너리에 저장된 국가 정보를 하나씩 인수로 받아서 출력\n",
    "    -두 번째 함수 print_all_countries, 인수는 1개 'countries', 인수의 개수는 정해져 있지 않기 때문에 호출 시 튜플 형태로 나열하여 넣게 설정\n",
    "    -countries 항목을 하나씩 순회하면서 선언한 print_country() 함수를 호출, 이때 딕셔너리 타입의 각 항목은 언패킹되어 print_country()함수의 인수로 대입\n",
    "    -print_all_countries()함수 호출, 인수는 튜플'countries'를 언패킹하여 인수로 대입"
   ]
  },
  {
   "cell_type": "markdown",
   "metadata": {},
   "source": [
    "#### -딕셔너리의 데이터들을 순차적으로 읽는 방법"
   ]
  },
  {
   "cell_type": "code",
   "execution_count": 9,
   "metadata": {},
   "outputs": [
    {
     "name": "stdout",
     "output_type": "stream",
     "text": [
      "뉴질랜드 554 NZL NZ\n",
      "대한민국 123 KOR KR\n",
      "미국 456 USA US\n"
     ]
    }
   ],
   "source": [
    "#해답\n",
    "countries = (\n",
    "    {'country':'뉴질랜드','code':554,'alpha3':'NZL','alpha2':'NZ'},\n",
    "    {'country':'대한민국','code':123,'alpha3':'KOR','alpha2':'KR'},\n",
    "    {'country':'미국','code':456,'alpha3':'USA','alpha2':'US'})\n",
    "#1개 국가에 대한 정보 출력을 위한 함수\n",
    "def print_country(country, code, alpha3, alpha2):\n",
    "    print(country, code, alpha3, alpha2)\n",
    "#여러 국가에 대한 정보 출력을 위해 위 함수 호출\n",
    "def print_all_countries(*countries):\n",
    "    for country in countries:\n",
    "        print_country(**country)\n",
    "    \n",
    "#함수 호출\n",
    "print_all_countries(*countries)"
   ]
  },
  {
   "cell_type": "code",
   "execution_count": 10,
   "metadata": {},
   "outputs": [
    {
     "name": "stdout",
     "output_type": "stream",
     "text": [
      "<class 'str'>\n",
      "2377740400512\n",
      "<class 'str'>\n",
      "2377740399472\n"
     ]
    }
   ],
   "source": [
    "text = '역시 파이썬은 최고예요.'\n",
    "print(type(text))\n",
    "print(id(text))\n",
    "text2 = '역시 파이썬은 최고예요.'\n",
    "print(type(text2))\n",
    "print(id(text2))"
   ]
  },
  {
   "cell_type": "markdown",
   "metadata": {},
   "source": [
    "# 6. CLASS"
   ]
  },
  {
   "cell_type": "markdown",
   "metadata": {},
   "source": [
    "    -클래스는 여러 개의 변수와 함수들을 모아서 재사용할 수 있는 기능을 제공.\n",
    "    -클래스는 객체를 생성하기 위해 변수와 함수를 모은 설계도.\n",
    "    -이 설계도에 따라 유일한 식별자를 가진 객체들이 생성되고 사용.\n",
    "    -클래스에는 객체의 상태나 정보를 저장하기 위한 지역 변수와 객체에서만 사용할 수 있는 기능들을 정의한 내장 메소드가 존재"
   ]
  },
  {
   "cell_type": "code",
   "execution_count": 11,
   "metadata": {},
   "outputs": [
    {
     "name": "stdout",
     "output_type": "stream",
     "text": [
      "역시 Python은 최고예요.\n",
      "역시 우왕은 최고예요.\n"
     ]
    }
   ],
   "source": [
    "text.__class__\n",
    "print(text.replace('파이썬','Python'))\n",
    "print(text.replace('파이썬','우왕'))"
   ]
  },
  {
   "cell_type": "markdown",
   "metadata": {},
   "source": [
    "    -클래스 이름, 메소드, 속성 정의하기\n",
    "    -클래스 이름: 책 읽는 사람 -> BookReader\n",
    "    -속성: 이름 -> name\n",
    "    -메소드: 책 읽기 -> read_book"
   ]
  },
  {
   "cell_type": "markdown",
   "metadata": {},
   "source": [
    "#### 클래스는 Camel형으로 AbcdEfg 형식으로 구분함"
   ]
  },
  {
   "cell_type": "code",
   "execution_count": 12,
   "metadata": {},
   "outputs": [],
   "source": [
    "class BookReader:\n",
    "    name=str()\n",
    "    def read_book():\n",
    "        print(name + 'is reading Book!!')"
   ]
  },
  {
   "cell_type": "markdown",
   "metadata": {},
   "source": [
    "# 7. 클래스 호출하기"
   ]
  },
  {
   "cell_type": "code",
   "execution_count": 13,
   "metadata": {},
   "outputs": [
    {
     "name": "stdout",
     "output_type": "stream",
     "text": [
      "<class '__main__.BookReader'>\n"
     ]
    },
    {
     "ename": "TypeError",
     "evalue": "read_book() takes 0 positional arguments but 1 was given",
     "output_type": "error",
     "traceback": [
      "\u001b[1;31m---------------------------------------------------------------------------\u001b[0m",
      "\u001b[1;31mTypeError\u001b[0m                                 Traceback (most recent call last)",
      "\u001b[1;32m<ipython-input-13-112b9f8058d9>\u001b[0m in \u001b[0;36m<module>\u001b[1;34m()\u001b[0m\n\u001b[0;32m      2\u001b[0m \u001b[0mprint\u001b[0m\u001b[1;33m(\u001b[0m\u001b[0mtype\u001b[0m\u001b[1;33m(\u001b[0m\u001b[0mreader\u001b[0m\u001b[1;33m)\u001b[0m\u001b[1;33m)\u001b[0m \u001b[1;31m#변수 reader 타입 확인\u001b[0m\u001b[1;33m\u001b[0m\u001b[0m\n\u001b[0;32m      3\u001b[0m \u001b[0mreader\u001b[0m\u001b[1;33m.\u001b[0m\u001b[0mname\u001b[0m \u001b[1;33m=\u001b[0m \u001b[1;34m'Chris'\u001b[0m \u001b[1;31m#속성 값 세팅\u001b[0m\u001b[1;33m\u001b[0m\u001b[0m\n\u001b[1;32m----> 4\u001b[1;33m \u001b[0mreader\u001b[0m\u001b[1;33m.\u001b[0m\u001b[0mread_book\u001b[0m\u001b[1;33m(\u001b[0m\u001b[1;33m)\u001b[0m \u001b[1;31m#메소드 호출(에러)\u001b[0m\u001b[1;33m\u001b[0m\u001b[0m\n\u001b[0m\u001b[0;32m      5\u001b[0m \u001b[1;31m#클래스 안에는 우선적으로 할당을 시키고 넘어감 그래서 Self가 없으므로 오류가 나는것\u001b[0m\u001b[1;33m\u001b[0m\u001b[1;33m\u001b[0m\u001b[0m\n",
      "\u001b[1;31mTypeError\u001b[0m: read_book() takes 0 positional arguments but 1 was given"
     ]
    }
   ],
   "source": [
    "reader = BookReader() #인스턴스 생성\n",
    "print(type(reader)) #변수 reader 타입 확인\n",
    "reader.name = 'Chris' #속성 값 세팅\n",
    "reader.read_book() #메소드 호출(에러)\n",
    "#클래스 안에는 우선적으로 할당을 시키고 넘어감 그래서 Self가 없으므로 오류가 나는것"
   ]
  },
  {
   "cell_type": "code",
   "execution_count": 14,
   "metadata": {},
   "outputs": [
    {
     "name": "stdout",
     "output_type": "stream",
     "text": [
      "Chrisis reading Book!!\n"
     ]
    }
   ],
   "source": [
    "class BookReader:#클래스 BookReader 선언\n",
    "    name=str() #문자형 변수 name 선언\n",
    "    def read_book(self): #함수 read_book 선언, self 인수 추가\n",
    "        print(self.name + 'is reading Book!!') #출력 self 사용\n",
    "        #class 함수 선언할 때 (((((((SELF 명심)))))))\n",
    "reader=BookReader() #인스턴스 재생성\n",
    "reader.name = 'Chris' #속성값 세팅\n",
    "reader.read_book() #메소드 호출"
   ]
  },
  {
   "cell_type": "markdown",
   "metadata": {},
   "source": [
    "# 8. 특수 내장 메소드 __init__() 많이씀"
   ]
  },
  {
   "cell_type": "markdown",
   "metadata": {},
   "source": [
    "    -에러를 피하기 위해서 __init__()을 쓰면 오류가 안남!!! \n",
    "    -class 설정 시 하면 손해보지 않는 2가지 'self'와 ★★★'__init__()'★★★"
   ]
  },
  {
   "cell_type": "code",
   "execution_count": 15,
   "metadata": {},
   "outputs": [],
   "source": [
    "class BookReader:\n",
    "    def __init__(self, name): #초기화 함수 재정의\n",
    "        self.name = name\n",
    "    def read_book(self): #함수 선언\n",
    "        print(self.name + 'is reading Book!!')"
   ]
  },
  {
   "cell_type": "code",
   "execution_count": 16,
   "metadata": {},
   "outputs": [
    {
     "ename": "TypeError",
     "evalue": "__init__() missing 1 required positional argument: 'name'",
     "output_type": "error",
     "traceback": [
      "\u001b[1;31m---------------------------------------------------------------------------\u001b[0m",
      "\u001b[1;31mTypeError\u001b[0m                                 Traceback (most recent call last)",
      "\u001b[1;32m<ipython-input-16-6eb88f63d3d4>\u001b[0m in \u001b[0;36m<module>\u001b[1;34m()\u001b[0m\n\u001b[0;32m      1\u001b[0m \u001b[1;31m#오류발생\u001b[0m\u001b[1;33m\u001b[0m\u001b[1;33m\u001b[0m\u001b[0m\n\u001b[1;32m----> 2\u001b[1;33m \u001b[0mreader\u001b[0m \u001b[1;33m=\u001b[0m \u001b[0mBookReader\u001b[0m\u001b[1;33m(\u001b[0m\u001b[1;33m)\u001b[0m \u001b[1;31m#인스턴스 생성(에러)\u001b[0m\u001b[1;33m\u001b[0m\u001b[0m\n\u001b[0m",
      "\u001b[1;31mTypeError\u001b[0m: __init__() missing 1 required positional argument: 'name'"
     ]
    }
   ],
   "source": [
    "#오류발생\n",
    "reader = BookReader() #인스턴스 생성(에러)"
   ]
  },
  {
   "cell_type": "code",
   "execution_count": 17,
   "metadata": {},
   "outputs": [
    {
     "name": "stdout",
     "output_type": "stream",
     "text": [
      "Chrisis reading Book!!\n"
     ]
    }
   ],
   "source": [
    "BookReader('Chris')#인수를 추가하여 객체 생성\n",
    "reader.read_book() #메소드 호출"
   ]
  },
  {
   "cell_type": "markdown",
   "metadata": {},
   "source": [
    "# 9. 클래스 변수와 인스턴스 변수"
   ]
  },
  {
   "cell_type": "code",
   "execution_count": 18,
   "metadata": {},
   "outputs": [
    {
     "name": "stdout",
     "output_type": "stream",
     "text": [
      "Chrisis reading Book!!\n"
     ]
    }
   ],
   "source": [
    "class BookReader:\n",
    "    country = 'South Korea' #클래스 변수 선언\n",
    "    def __init__(self, name): #초기화 함수 재정의\n",
    "        self.name = name #인스턴스 변수 선언\n",
    "    def read_book(self):\n",
    "        print(self.name + 'is reading Book!!')\n",
    "BookReader('원철')\n",
    "reader.read_book()"
   ]
  },
  {
   "cell_type": "code",
   "execution_count": 19,
   "metadata": {},
   "outputs": [
    {
     "name": "stdout",
     "output_type": "stream",
     "text": [
      "South Korea\n",
      "South Korea\n"
     ]
    }
   ],
   "source": [
    "reader1 = BookReader('Chris')\n",
    "reader2 = BookReader('Anna')\n",
    "print(reader1.country)\n",
    "print(reader2.country)"
   ]
  },
  {
   "cell_type": "markdown",
   "metadata": {},
   "source": [
    "# ※주의사항"
   ]
  },
  {
   "cell_type": "code",
   "execution_count": 20,
   "metadata": {},
   "outputs": [
    {
     "data": {
      "text/plain": [
       "['roll over', 'paly dead']"
      ]
     },
     "execution_count": 20,
     "metadata": {},
     "output_type": "execute_result"
    }
   ],
   "source": [
    "class Dog:\n",
    "    tricks = list() #클래스 변수 잘못 사용\n",
    "    def __init__(self, name):\n",
    "        self.name = name\n",
    "    def add_trick(self, trick):\n",
    "        self.tricks.append(trick) #클래스 변수에 값 추가\n",
    "fido = Dog('Fido')\n",
    "buddy = Dog('Buddy')\n",
    "fido.add_trick('roll over')\n",
    "buddy.add_trick('paly dead')\n",
    "fido.tricks #변수가 두 인스턴스에 공유"
   ]
  },
  {
   "cell_type": "code",
   "execution_count": 21,
   "metadata": {},
   "outputs": [
    {
     "name": "stdout",
     "output_type": "stream",
     "text": [
      "['roll over']\n",
      "['play dead']\n"
     ]
    }
   ],
   "source": [
    "class Dog:\n",
    "    tricks = list() \n",
    "    def __init__(self, name):\n",
    "        self.name = name\n",
    "        self.tricks = list() #####인스턴스 변수 선언\n",
    "    def add_trick(self, trick):\n",
    "        self.tricks.append(trick) #인스턴스 변수에 값 추가\n",
    "fido = Dog('Fido')\n",
    "buddy = Dog('Buddy')\n",
    "fido.add_trick('roll over')\n",
    "buddy.add_trick('play dead')\n",
    "print(fido.tricks) #변수가 두 인스턴스에 공유\n",
    "print(buddy.tricks)"
   ]
  },
  {
   "cell_type": "markdown",
   "metadata": {},
   "source": [
    "# 10. random 모듈 (남들이 짜놓은 패키지 in R)"
   ]
  },
  {
   "cell_type": "code",
   "execution_count": 22,
   "metadata": {},
   "outputs": [
    {
     "ename": "NameError",
     "evalue": "name 'random' is not defined",
     "output_type": "error",
     "traceback": [
      "\u001b[1;31m---------------------------------------------------------------------------\u001b[0m",
      "\u001b[1;31mNameError\u001b[0m                                 Traceback (most recent call last)",
      "\u001b[1;32m<ipython-input-22-60206fa06a2a>\u001b[0m in \u001b[0;36m<module>\u001b[1;34m()\u001b[0m\n\u001b[1;32m----> 1\u001b[1;33m \u001b[0mrandom\u001b[0m\u001b[1;33m.\u001b[0m\u001b[0mrandint\u001b[0m\u001b[1;33m(\u001b[0m\u001b[1;36m1\u001b[0m\u001b[1;33m,\u001b[0m\u001b[1;36m10\u001b[0m\u001b[1;33m)\u001b[0m\u001b[1;33m\u001b[0m\u001b[0m\n\u001b[0m",
      "\u001b[1;31mNameError\u001b[0m: name 'random' is not defined"
     ]
    }
   ],
   "source": [
    "random.randint(1,10)"
   ]
  },
  {
   "cell_type": "code",
   "execution_count": 23,
   "metadata": {},
   "outputs": [
    {
     "name": "stdout",
     "output_type": "stream",
     "text": [
      "6\n",
      "2\n",
      "2\n",
      "86\n"
     ]
    }
   ],
   "source": [
    "import random\n",
    "print(random.randint(1, 10))\n",
    "print(random.randint(1, 10))\n",
    "print(random.randint(1, 10))\n",
    "print(random.randint(1, 100))"
   ]
  },
  {
   "cell_type": "markdown",
   "metadata": {},
   "source": [
    "    -파이썬은 자원을 효율적으로 사용하기 위해 자주 사용하는 함수와 클래스만 내장\n",
    "    -그 밖의 모듈 및 클래스는 프로그래머가 import 구문을 통해 탑재하게 하였다.\n",
    "    -DBMS까진 아니더라도 객체지향이 어떤건지 (주키, 등) 연동하는 건 명확하게 알고 있어야 함"
   ]
  },
  {
   "cell_type": "markdown",
   "metadata": {},
   "source": [
    "# ※ 봇과 가위바위보 게임"
   ]
  },
  {
   "cell_type": "markdown",
   "metadata": {},
   "source": [
    "    -컴퓨터와 대결하여 3선승이 이기는 게임.\n",
    "    -random모듈 사용\n",
    "    -Game 클래스를 생성\n",
    "    -객체 생성시 3개의 인스턴스 변수 생성\n",
    "     -가위,바위, 보 를 저장하는 튜플, 변수:items\n",
    "     -사람이 이긴 횟수를 저장하기 위한 변수:human_count\n",
    "     -봇이 이긴 횟수를 저장하기 위한 변수:bot_count\n",
    "    -start()함수 생성\n",
    "    -while문 사용(3선승)\n",
    "    -사용자에게 가위, 바위, 보를 표준 입력문으로 받아 변수 human에 저장\n",
    "    -입력 에러시 에러메세지 출력\n",
    "    -봇은 난수 0,1,2를 발생시켜 앞에 선언한 items에서 값을 무작위로 추출하여 변수 bot에 저장\n",
    "    -봇이 선택한 아이템을 확인하기 위해 출력\n",
    "    -게임 결과에 따라 누구라도 3번 이기면 게임 결과 출력 종료"
   ]
  },
  {
   "cell_type": "code",
   "execution_count": 24,
   "metadata": {},
   "outputs": [],
   "source": [
    "import random\n",
    "class Game:\n",
    "    items = tuple()\n",
    "    human_count = ()\n",
    "    bot_count = ()\n",
    "\n"
   ]
  },
  {
   "cell_type": "code",
   "execution_count": 25,
   "metadata": {},
   "outputs": [],
   "source": [
    "import random\n",
    "class Game:\n",
    "    def __init__(self):\n",
    "        self.items = '가위','바위','보'\n",
    "        self.human_count =0\n",
    "        self.bot_count = 0\n",
    "    def start(self):\n",
    "        print('컴퓨터와의 가위, 바위, 보 게임을 시작하겠습니다.')\n",
    "        while self.human_count <3 and self.bot_count <3: ##이게 가장 중요\n",
    "            print('='*50)\n",
    "            human = input('가위, 바위, 보 중 하나를 입력하세요!')\n",
    "            bot-self.items[random.randint(0,2)]\n",
    "            print('봇이[',bot,']를 냈습니다.')\n",
    "            if human == '가위':\n",
    "                if bot == '바위':\n",
    "                    print('봇이 이겼네요.. ㅠㅠ')\n",
    "                    self.bot_count += 1\n",
    "                else:\n",
    "                    print('비겼습니다.')\n",
    "            elif human == '바위':\n",
    "                if bot == '보':\n",
    "                    print('봇이 이겼네요.. ㅠㅠ')\n",
    "                    self.bot_count += 1\n",
    "                else:\n",
    "                    print('비겼습니다.')\n",
    "            elif human == '보':\n",
    "                if bot == '가위':\n",
    "                    print('봇이 이겼네요.. ㅠㅠ')\n",
    "                    self.bot_count += 1\n",
    "                else:\n",
    "                    print('비겼습니다.')\n",
    "            if self.bot_count >= 3:\n",
    "                print('봇이 먼저 세 판을 이겼군요. 안타까워요.')\n",
    "            if self.human_count >= 3:\n",
    "                print('축하드립니다!! 봇을 이기셨습니다!!:)')"
   ]
  },
  {
   "cell_type": "code",
   "execution_count": 26,
   "metadata": {},
   "outputs": [],
   "source": [
    "import random\n",
    "class Game:\n",
    "    def __init__(self):\n",
    "        self.items = '가위','바위','보'\n",
    "        self.human_count=0\n",
    "        self.bot_count=0\n",
    "    def start(self):\n",
    "        print('컴퓨터와의 가위바위보 시작함.')\n",
    "        while self.human_count <3 and self.bot_count <3:\n",
    "            print('='*60)\n",
    "            human = input('가위, 바위, 보 중 하나를 입력')\n",
    "            bot = self.items[random.randint(0,2)]\n",
    "            print('봇이[',bot,']를 냈습니다.')\n",
    "            if human == '가위':\n",
    "                if bot =='바위':\n",
    "                    print('봇이 이겼네요')\n",
    "                    self.bot_count += 1\n",
    "                elif bot == '보':\n",
    "                    print('당신이 이겼씁니다.')\n",
    "                    \n",
    "                else:\n",
    "                    print('값을 잘못 입력하셨습니다. 다시 시도하세요!')"
   ]
  },
  {
   "cell_type": "code",
   "execution_count": null,
   "metadata": {},
   "outputs": [
    {
     "name": "stdout",
     "output_type": "stream",
     "text": [
      "컴퓨터와의 가위바위보 시작함.\n",
      "============================================================\n",
      "가위, 바위, 보 중 하나를 입력가위\n",
      "봇이[ 바위 ]를 냈습니다.\n",
      "봉시 이겼네요\n",
      "============================================================\n",
      "가위, 바위, 보 중 하나를 입력바위\n",
      "봇이[ 가위 ]를 냈습니다.\n",
      "============================================================\n",
      "가위, 바위, 보 중 하나를 입력보\n",
      "봇이[ 바위 ]를 냈습니다.\n",
      "============================================================\n",
      "가위, 바위, 보 중 하나를 입력가위\n",
      "봇이[ 보 ]를 냈습니다.\n",
      "당신이 이겼씁니다.\n",
      "============================================================\n",
      "가위, 바위, 보 중 하나를 입력바\n",
      "봇이[ 가위 ]를 냈습니다.\n",
      "============================================================\n",
      "가위, 바위, 보 중 하나를 입력바위\n",
      "봇이[ 바위 ]를 냈습니다.\n",
      "============================================================\n",
      "가위, 바위, 보 중 하나를 입력보\n",
      "봇이[ 바위 ]를 냈습니다.\n",
      "============================================================\n"
     ]
    }
   ],
   "source": [
    "game=Game()\n",
    "game.start()"
   ]
  }
 ],
 "metadata": {
  "kernelspec": {
   "display_name": "Python 3",
   "language": "python",
   "name": "python3"
  },
  "language_info": {
   "codemirror_mode": {
    "name": "ipython",
    "version": 3
   },
   "file_extension": ".py",
   "mimetype": "text/x-python",
   "name": "python",
   "nbconvert_exporter": "python",
   "pygments_lexer": "ipython3",
   "version": "3.6.5"
  }
 },
 "nbformat": 4,
 "nbformat_minor": 2
}
