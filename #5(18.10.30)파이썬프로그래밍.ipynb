{
 "cells": [
  {
   "cell_type": "markdown",
   "metadata": {},
   "source": [
    "# 2018년 10월 30일 화요일 파이썬 프로그래밍"
   ]
  },
  {
   "cell_type": "markdown",
   "metadata": {},
   "source": [
    "# 튜플\n",
    "튜플 타입의 개념\n",
    "- 변경할 수 없는 열거 데이터의 집합.\n",
    "\n",
    "- 값을 변경할 수 있는 리스트 타입과 달리, 한 번 값이 정해지면 항목의 값이 변경할 수 없다.\n",
    "\n",
    "- 문자열 타입?"
   ]
  },
  {
   "cell_type": "markdown",
   "metadata": {},
   "source": [
    "왜 튜플을 쓰는가?\n",
    "\n",
    "    튜플은 변하지 않는다고 컴퓨터와 약속했으므로 실행시키면 좀 더 빠르다."
   ]
  },
  {
   "cell_type": "code",
   "execution_count": 1,
   "metadata": {},
   "outputs": [
    {
     "name": "stdout",
     "output_type": "stream",
     "text": [
      "파\n",
      "열\n",
      "파이썬 문자열\n"
     ]
    }
   ],
   "source": [
    "text='파이썬 문자열'\n",
    "print(text[0])\n",
    "print(text[-1])\n",
    "#print(text[-1]='다') #문자열은 바뀌지 않음\n",
    "print(text)"
   ]
  },
  {
   "cell_type": "markdown",
   "metadata": {},
   "source": [
    "- 리스트 타입은 일반적으로 동일한 자료 타입으로 이루어진 항목들을 리스트 내에서 순차적으로 추출할 떄 사용\n",
    "\n",
    "- 반면 튜플 타입은 일반적으로 '서로 다른 종류의 데이터 타입'으로 이루어진 항목들을 변수에 바로 풀어서 할당하거나 색인\n",
    "\n",
    "- 튜플 타입은 리스트 타입과 같은 방식으로 각각의 항목을 쉼표 기호(,)로 구분하지만, "
   ]
  },
  {
   "cell_type": "markdown",
   "metadata": {},
   "source": [
    "# 튜플 타입 선언"
   ]
  },
  {
   "cell_type": "code",
   "execution_count": 2,
   "metadata": {},
   "outputs": [
    {
     "name": "stdout",
     "output_type": "stream",
     "text": [
      "('red', 4, '다이아몬드', 'True')\n",
      "다이아몬드\n",
      "('red', 4)\n",
      "('다이아몬드', 'True')\n",
      "('red', 4, '다이아몬드', 'True')\n"
     ]
    }
   ],
   "source": [
    "card = 'red',4,'다이아몬드','True'\n",
    "print(card)\n",
    "#card[-1]=False #튜플이므로 변경이 안됨\n",
    "print(card[2])\n",
    "print(card[:2])\n",
    "print(card[2:])\n",
    "print(card[:])"
   ]
  },
  {
   "cell_type": "code",
   "execution_count": 3,
   "metadata": {},
   "outputs": [
    {
     "name": "stdout",
     "output_type": "stream",
     "text": [
      "<class 'str'>\n",
      "one\n",
      "<class 'str'>\n",
      "('one',)\n",
      "<class 'tuple'>\n"
     ]
    }
   ],
   "source": [
    "one = ('one')\n",
    "print(type(one))\n",
    "one_1 = 'one'\n",
    "print(one)\n",
    "print(type(one_1))\n",
    "one_t='one',\n",
    "print(one_t)\n",
    "print(type(one_t))"
   ]
  },
  {
   "cell_type": "markdown",
   "metadata": {},
   "source": [
    "- 튜플 패킹: 문자열, 숫자, 논리 타입으로 이루어진 여러 개의 데이터가 하나의 튜플로 포장된 것.\n",
    ">card = 'red', 4, '다이아몬드', True\n",
    "- 튜플 언패킹: 튜플을 항목별로 각각 풀어서 변수에 저장하는 것.\n",
    ">a,b,c,d = card"
   ]
  },
  {
   "cell_type": "code",
   "execution_count": 4,
   "metadata": {},
   "outputs": [
    {
     "name": "stdout",
     "output_type": "stream",
     "text": [
      "('red', 4, '다이아몬드', True)\n"
     ]
    }
   ],
   "source": [
    "card='red',4,'다이아몬드',True\n",
    "a,b,c,d=card\n",
    "#언패킹 시 a,b,c,d,e=card 갯수가 맞아야 함\n",
    "print(card)"
   ]
  },
  {
   "cell_type": "markdown",
   "metadata": {},
   "source": [
    "# 중복이나 순서 없이 모으는 세트\n",
    "- 세트 타입은 데이터 중복을 허용하지 않고 순서가 없는 데이터 집합을 위한 데이터 타입"
   ]
  },
  {
   "cell_type": "code",
   "execution_count": 5,
   "metadata": {},
   "outputs": [
    {
     "name": "stdout",
     "output_type": "stream",
     "text": [
      "{'Python', 'C', 'C++'}\n",
      "True\n",
      "False\n"
     ]
    }
   ],
   "source": [
    "languages = {'C++','Python','C','C','C++','Python'}\n",
    "print(languages)\n",
    "print('Python' in languages)\n",
    "print('R' in languages)"
   ]
  },
  {
   "cell_type": "code",
   "execution_count": 6,
   "metadata": {},
   "outputs": [
    {
     "name": "stdout",
     "output_type": "stream",
     "text": [
      "{'a', 'd', 'r', 'b', 'c'}\n",
      "{'b', 'r'}\n",
      "{'f', 's', 'l', 'm'}\n",
      "{'a', 'd', 's', 'l', 'm', 'r', 'f', 'b', 'c'}\n",
      "{'a', 'd', 'c'}\n",
      "{'s', 'r', 'f', 'b', 'l', 'm'}\n"
     ]
    }
   ],
   "source": [
    "a=set('abracadabra')\n",
    "b=set('alacasdfm')\n",
    "print(a)\n",
    "print(a-b)\n",
    "print(b-a)\n",
    "print(a|b)\n",
    "print(a&b)\n",
    "print(a^b)"
   ]
  },
  {
   "cell_type": "markdown",
   "metadata": {},
   "source": [
    "# 딕셔너리\n",
    "- '딕셔너리 타입'은 '전체 항목이 정렬되지 않은 키와 값의 쌍으로 구성된 데이터 모음' 으로 정의"
   ]
  },
  {
   "cell_type": "code",
   "execution_count": 7,
   "metadata": {},
   "outputs": [
    {
     "name": "stdout",
     "output_type": "stream",
     "text": [
      "{'Python': 5, 'C': 2, 'C++': 3, 'Java': 4}\n",
      "<class 'dict'>\n",
      "5\n"
     ]
    }
   ],
   "source": [
    "programmer_dict = {'Python':5, 'C':2, 'C++':3, 'Java':4}\n",
    "print(programmer_dict)\n",
    "print(type(programmer_dict))\n",
    "print(programmer_dict['Python'])"
   ]
  },
  {
   "cell_type": "code",
   "execution_count": 8,
   "metadata": {},
   "outputs": [
    {
     "name": "stdout",
     "output_type": "stream",
     "text": [
      "{'Python': 7, 'C': 2, 'C++': 3, 'Java': 4}\n",
      "{'Python': 7, 'C': 2, 'C++': 3, 'Java': 4, 'Ruby': 1}\n"
     ]
    }
   ],
   "source": [
    "programmer_dict['Python'] = 7\n",
    "print(programmer_dict)\n",
    "programmer_dict['Ruby'] = 1\n",
    "print(programmer_dict)"
   ]
  },
  {
   "cell_type": "code",
   "execution_count": 9,
   "metadata": {},
   "outputs": [
    {
     "name": "stdout",
     "output_type": "stream",
     "text": [
      "5\n",
      "dict_keys(['Python', 'C', 'C++', 'Java', 'Ruby'])\n",
      "['Python', 'C', 'C++', 'Java', 'Ruby']\n",
      "[7, 2, 3, 4, 1]\n"
     ]
    }
   ],
   "source": [
    "print(len(programmer_dict))\n",
    "print(programmer_dict.keys())\n",
    "print(list(programmer_dict.keys()))\n",
    "print(list(programmer_dict.values()))"
   ]
  },
  {
   "cell_type": "code",
   "execution_count": 10,
   "metadata": {},
   "outputs": [
    {
     "name": "stdout",
     "output_type": "stream",
     "text": [
      "{'Python': 7, 'C': 2, 'C++': 3, 'Java': 4, 'Ruby': 1}\n",
      "{'Python': 7, 'C': 2, 'C++': 3, 'Java': 4, 'Ruby': 1}\n",
      "{'Python': 7, 'Java': 2}\n"
     ]
    }
   ],
   "source": [
    "print(programmer_dict)\n",
    "#del 지우기 del programmer_dict['Ruby']\n",
    "print(programmer_dict)\n",
    "programmer_list=[('Python',7),('Java',2)]\n",
    "programmer_list=dict(programmer_list)\n",
    "print(programmer_list)"
   ]
  },
  {
   "cell_type": "markdown",
   "metadata": {},
   "source": [
    "# 빈 리스트, 빈 튜플, 빈 딕셔너리 만드는 법"
   ]
  },
  {
   "cell_type": "code",
   "execution_count": 11,
   "metadata": {},
   "outputs": [
    {
     "name": "stdout",
     "output_type": "stream",
     "text": [
      "<class 'list'>\n",
      "<class 'list'>\n",
      "<class 'tuple'>\n",
      "<class 'tuple'>\n",
      "<class 'dict'>\n"
     ]
    }
   ],
   "source": [
    "a = list()\n",
    "print(type(a))\n",
    "a = []\n",
    "print(type(a))\n",
    "a = ()\n",
    "print(type(a))\n",
    "a = tuple()\n",
    "print(type(a))\n",
    "a = {}\n",
    "print(type(a))"
   ]
  },
  {
   "cell_type": "markdown",
   "metadata": {},
   "source": [
    "# 4. 이름, 점수 저장 및 검색\n",
    "    -학생수 입력\n",
    "    -입력 받은 학생 수에 따라 이름과 시험 점수 입력\n",
    "    -입력 받은 학생 이름과 점수는 튜플타입으로 저장.\n",
    "    -학생 정보는 리스트 타입에 저장\n",
    "    -입력이 끝나면, 검색하고자 하는 학생의 이름 입력\n",
    "    -만약, 저장한 데이터에 존재하지 않는 학생이면 다시 시도.\n",
    "    -존재하는 학생이면 점수 출력 후 프로그램 종료."
   ]
  },
  {
   "cell_type": "code",
   "execution_count": 12,
   "metadata": {},
   "outputs": [
    {
     "name": "stdout",
     "output_type": "stream",
     "text": [
      "입력하는 학생수가 총 몇명인가요?:3\n",
      "학생의 이름과 시험 점수를 차례대로 입력하세요!\n",
      "1 번째 학생 =====\n",
      "* 이름:아야\n",
      "* 점수:90\n",
      "2 번째 학생 =====\n",
      "* 이름:어여\n",
      "* 점수:60\n",
      "3 번째 학생 =====\n",
      "* 이름:우유\n",
      "* 점수:85\n",
      "어떤 학생의 점수가 궁금하신가요? 이름을 입력하세요.:아야\n",
      "아야 학생의 점수: 90\n",
      "프로그램을 종료합니다.\n"
     ]
    }
   ],
   "source": [
    "count = int(input('입력하는 학생수가 총 몇명인가요?:'))\n",
    "print('학생의 이름과 시험 점수를 차례대로 입력하세요!')\n",
    "scores=list()\n",
    "num = 1\n",
    "#이름 및 점수 입력\n",
    "while num <= count:\n",
    "    print(num, '번째 학생 =====')\n",
    "    name = input('* 이름:')\n",
    "    score = int(input('* 점수:'))\n",
    "    pair = (name, score)\n",
    "    scores.append(pair)\n",
    "    num+=1\n",
    "    \n",
    "#딕셔너리로 타입 전환\n",
    "scores_dict = dict(scores)\n",
    "\n",
    "#학생 이름 및 점수 출력\n",
    "flag = True\n",
    "while flag:\n",
    "    wanted = input('어떤 학생의 점수가 궁금하신가요? 이름을 입력하세요.:')\n",
    "    if wanted in scores_dict: \n",
    "        print(wanted, '학생의 점수:',scores_dict[wanted])\n",
    "        flag = False\n",
    "        print('프로그램을 종료합니다.')\n",
    "    else:\n",
    "        print('찾는 학생(', wanted, ')의 점수가 존재하지 않습니다.')"
   ]
  },
  {
   "cell_type": "markdown",
   "metadata": {},
   "source": [
    "# q2.\n",
    "- 신용카드번호나 계좌번호가 변경될 수 있는 형태면 거래할 떄 어려우므로 변화하지 않도록 주의\n",
    ">- 학생 수 입력\n",
    ">- 입력 수 만큼 이름과 취미 입력\n",
    ">- 이름과 취미는 튜플 타입으로\n",
    ">- 전체 이름 정보는 리스트 타입\n",
    ">- 전체 리스트 출력\n",
    ">- 전체 취미항목을 중복 없이 출력"
   ]
  },
  {
   "cell_type": "code",
   "execution_count": 13,
   "metadata": {},
   "outputs": [
    {
     "name": "stdout",
     "output_type": "stream",
     "text": [
      "입력하는 학생수가 총 몇명인가요?:3\n",
      "학생의 이름과 취미를 차례대로 입력하세요!\n",
      "==================================================\n",
      "1 번째 학생 =====\n",
      "* 이름:아야\n",
      "* 취미:피아노\n",
      "2 번째 학생 =====\n",
      "* 이름:우유\n",
      "* 취미:기타\n",
      "3 번째 학생 =====\n",
      "* 이름:어여\n",
      "* 취미:게임\n",
      "\n",
      " == 전체 학생 리스트 정보: ['아야', '우유', '어여']\n",
      "\n",
      " == 전체 취미 세트 정보: {'피아노', '게임', '기타'}\n"
     ]
    }
   ],
   "source": [
    "count = int(input('입력하는 학생수가 총 몇명인가요?:'))\n",
    "print(\"학생의 이름과 취미를 차례대로 입력하세요!\")\n",
    "hobbiess=list()\n",
    "print('='*50)\n",
    "#아룸 및 취미 입력\n",
    "num=1\n",
    "while num <= count:\n",
    "    print(num, '번째 학생 =====')\n",
    "    name = input('* 이름:')\n",
    "    hobbies = str(input('* 취미:'))\n",
    "    pair = (name, hobbies)\n",
    "    hobbiess.append(pair)\n",
    "    num+=1\n",
    "    \n",
    "#딕셔너리로 타입 전환\n",
    "hobbiess_dict = dict(hobbiess)\n",
    "hobbiess_set = set(hobbiess_dict.values())\n",
    "\n",
    "#전체 학생 이름 출력\n",
    "print('\\n == 전체 학생 리스트 정보:', list(hobbiess_dict.keys()))\n",
    "print('\\n == 전체 취미 세트 정보:', hobbiess_set)\n",
    "#value와 key의 사용이 앞으로 많을 것"
   ]
  }
 ],
 "metadata": {
  "kernelspec": {
   "display_name": "Python 3",
   "language": "python",
   "name": "python3"
  },
  "language_info": {
   "codemirror_mode": {
    "name": "ipython",
    "version": 3
   },
   "file_extension": ".py",
   "mimetype": "text/x-python",
   "name": "python",
   "nbconvert_exporter": "python",
   "pygments_lexer": "ipython3",
   "version": "3.6.5"
  }
 },
 "nbformat": 4,
 "nbformat_minor": 2
}
