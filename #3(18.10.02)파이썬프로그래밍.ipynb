{
 "cells": [
  {
   "cell_type": "markdown",
   "metadata": {},
   "source": [
    "# 1 논리\n",
    "< 작다\n",
    "<= 작거나 같다\n",
    "> 크다\n",
    ">= 크거나 같다\n",
    "== 같다\n",
    "!= 같지 않다\n",
    "is 같은 객체이다\n",
    "is not 같은 객체가 아니다"
   ]
  },
  {
   "cell_type": "code",
   "execution_count": null,
   "metadata": {},
   "outputs": [],
   "source": [
    "print(100 < 200)\n",
    "print(100 > 200)\n",
    "print(100 == 200)\n",
    "print(100 != 200)"
   ]
  },
  {
   "cell_type": "markdown",
   "metadata": {},
   "source": [
    "# 2 논리 연산자\n",
    "[A] or [B]\n",
    "[A] and [B]\n",
    "Not [A]"
   ]
  },
  {
   "cell_type": "code",
   "execution_count": null,
   "metadata": {},
   "outputs": [],
   "source": [
    "print(100>200 or 400 > 300)\n",
    "print(100>200 and 400>300 )\n",
    "print(not 100 > 200)\n",
    "print(int(True))\n",
    "print(int(False))\n",
    "print(bool(1))\n",
    "print(bool(0))"
   ]
  },
  {
   "cell_type": "markdown",
   "metadata": {},
   "source": [
    "# 3 조건분기 (콜론 지정 시 블록 구문이 시작된다고 생각하면 됨 #스페이스 4개 = 탭1회)\n",
    ":(콜론)은 블록문 [] 와 같음"
   ]
  },
  {
   "cell_type": "code",
   "execution_count": null,
   "metadata": {},
   "outputs": [],
   "source": [
    "X = input('마음에 드는 옷을 찾았나요? (예/아니요):')\n",
    "if X == '예':\n",
    "    print(' 축하합니다!!')\n",
    "else:\n",
    "    print(' 아쉽군요.')"
   ]
  },
  {
   "cell_type": "code",
   "execution_count": null,
   "metadata": {},
   "outputs": [],
   "source": [
    "X = input('마음에 드는 옷을 찾았나요? (예/아니요):')\n",
    "if X == '예':\n",
    "    print(' 축하합니다!!')\n",
    "elif X == '아니요.':\n",
    "    print(' 아쉽군요.')\n",
    "else:\n",
    "    input(' \"예\" 혹은 \"아니요\"로만 입력해주세요.:')"
   ]
  },
  {
   "cell_type": "code",
   "execution_count": null,
   "metadata": {},
   "outputs": [],
   "source": [
    "#값 입력\n",
    "flag = input('마음에 드는 옷을 찾았나요?(예/아니요):')\n",
    "\n",
    "#조건 분기\n",
    "if flag == '예':\n",
    "    print(':) 축하합니다!!')\n",
    "    price = input('가격이 얼마입니까?')\n",
    "    if int(price) <= 1000000:\n",
    "        print(':) 구매합니다')\n",
    "    else:\n",
    "        print(':) 포기합니다.')\n",
    "elif flag == '아니요':\n",
    "    print(':( 아쉽군요.')\n",
    "else:\n",
    "    print(\"'예 혹은 '아니요'로만 입력하세요.\")"
   ]
  },
  {
   "cell_type": "markdown",
   "metadata": {},
   "source": [
    "# 4 가위바위보 결과 출력\n",
    "1. A와 B가 내는 가위, 바위, 보를 차례로 입력 받음\n",
    "2. 누가 게임에 승리 했는지 출력\n",
    "3. 같은 것은 무승부로 출력\n",
    "4. 가위, 바위, 보가 아닌 값을 입력한 경우, 잘못 입력한 값과 함께 오류메시지 출력\n",
    "(Ex 입력값 오류 -> 부)\n",
    "5. 안에 블록 쌓듯이 생각할 것!!!!!!"
   ]
  },
  {
   "cell_type": "code",
   "execution_count": null,
   "metadata": {},
   "outputs": [],
   "source": [
    "#수업시간 중 내가 하는 방법\n",
    "somi = str(input('소미를 위한 가위, 바위, 보를 입력하세요 :'))\n",
    "jun = str(input('준을 위한 가위, 바위, 보를 입력하세요 :'))\n",
    "if somi == jun:\n",
    "    print(\"무승부\")\n",
    "elif somi == \"가위\":\n",
    "    if jun == \"바위\":\n",
    "        print(\"준 승리\")\n",
    "    elif jun == \"보\":\n",
    "        print(\"소미 승리\")\n",
    "elif somi == \"보\":\n",
    "    if jun == \"바위\":\n",
    "        print(\"소미 승리\")\n",
    "    elif jun == \"가위\":\n",
    "        print(\"준 승리\")\n",
    "elif somi == \"바위\":\n",
    "    if jun == \"가위\":\n",
    "        print(\"소미 승리\")\n",
    "    elif jun == \"보\":\n",
    "        print(\"준 승리\")\n",
    "elif somi != \"가위\"or\"바위\"or\"보\":\n",
    "    print(\"소미 입력 값 오류.\")\n",
    "elif jun != \"가위\" or\"바위\"or\"보\":\n",
    "    print(\"준 입력 값 오류.\")"
   ]
  },
  {
   "cell_type": "code",
   "execution_count": null,
   "metadata": {},
   "outputs": [],
   "source": [
    "user_a =input('소미를 위한 가위, 바위, 보를 입력하세요.:')\n",
    "user_b =input('준을 위한 가위, 바위, 보를 입력하세요.:')\n",
    "\n",
    "if user_a == '가위':\n",
    "    if user_b == '가위':\n",
    "        print('무승부')\n",
    "    elif user_b == '바위':\n",
    "        print('준 승리')\n",
    "    elif user_b == '보':\n",
    "        print('소미 승리')\n",
    "    else:\n",
    "        pirnt(\"소미 입력값 오류\")"
   ]
  },
  {
   "cell_type": "markdown",
   "metadata": {},
   "source": [
    "# 반복문 While"
   ]
  },
  {
   "cell_type": "code",
   "execution_count": null,
   "metadata": {},
   "outputs": [],
   "source": [
    "#반복문 수행 유무 플래그\n",
    "repeat = True\n",
    "#repeat True 인 경우 While 문 블록 반복 수행\n",
    "while repeat:\n",
    "    flag = input('마음에 드는 옷을 찾았나요?(예/ 아니요):')\n",
    "    if flag == '예':\n",
    "        print(':) 축하합니다!!')\n",
    "        repeat = False\n",
    "        \n",
    "    else:\n",
    "        print(':( 아쉽군요')\n",
    "        print('다른 매장에서 골라보세요!')"
   ]
  },
  {
   "cell_type": "markdown",
   "metadata": {},
   "source": [
    "# 리스트 List"
   ]
  },
  {
   "cell_type": "code",
   "execution_count": 4,
   "metadata": {},
   "outputs": [
    {
     "data": {
      "text/plain": [
       "1"
      ]
     },
     "execution_count": 4,
     "metadata": {},
     "output_type": "execute_result"
    }
   ],
   "source": [
    "cards=[3,2,8,9,11]\n",
    "cards\n",
    "type(cards)\n",
    "cards=[0]\n",
    "cards[-1]\n",
    "len(cards)\n",
    "#띄어쓰기도 길이에 포함되어 있음"
   ]
  },
  {
   "cell_type": "markdown",
   "metadata": {},
   "source": [
    "# For문"
   ]
  },
  {
   "cell_type": "code",
   "execution_count": 5,
   "metadata": {},
   "outputs": [
    {
     "name": "stdout",
     "output_type": "stream",
     "text": [
      "black 5\n",
      "blue 4\n",
      "yellow 6\n",
      "red 3\n"
     ]
    }
   ],
   "source": [
    "colors =['black', 'blue','yellow','red']\n",
    "for color in colors:\n",
    "    print(color, len(color))\n",
    "\n",
    "#순차적으로 실행"
   ]
  },
  {
   "cell_type": "code",
   "execution_count": 17,
   "metadata": {},
   "outputs": [
    {
     "name": "stdout",
     "output_type": "stream",
     "text": [
      "가위 vs 가위\n",
      "가위 vs 바위\n",
      "가위 vs 보\n",
      "바위 vs 가위\n",
      "바위 vs 바위\n",
      "바위 vs 보\n",
      "보 vs 가위\n",
      "보 vs 바위\n",
      "보 vs 보\n"
     ]
    }
   ],
   "source": [
    "#중첩 for 문\n",
    "all = ['가위','바위','보']\n",
    "for user_a in all:\n",
    "    for user_b in all:\n",
    "        print(user_a, 'vs', user_b)"
   ]
  },
  {
   "cell_type": "code",
   "execution_count": 21,
   "metadata": {},
   "outputs": [
    {
     "name": "stdout",
     "output_type": "stream",
     "text": [
      "1 + 1 = 2\n",
      "1 + 2 = 3\n",
      "1 + 3 = 4\n",
      "1 + 4 = 5\n",
      "1 + 5 = 6\n",
      "1 + 6 = 7\n",
      "2 + 1 = 3\n",
      "2 + 2 = 4\n",
      "2 + 3 = 5\n",
      "2 + 4 = 6\n",
      "2 + 5 = 7\n",
      "2 + 6 = 8\n",
      "3 + 1 = 4\n",
      "3 + 2 = 5\n",
      "3 + 3 = 6\n",
      "3 + 4 = 7\n",
      "3 + 5 = 8\n",
      "3 + 6 = 9\n",
      "4 + 1 = 5\n",
      "4 + 2 = 6\n",
      "4 + 3 = 7\n",
      "4 + 4 = 8\n",
      "4 + 5 = 9\n",
      "4 + 6 = 10\n",
      "5 + 1 = 6\n",
      "5 + 2 = 7\n",
      "5 + 3 = 8\n",
      "5 + 4 = 9\n",
      "5 + 5 = 10\n",
      "5 + 6 = 11\n",
      "6 + 1 = 7\n",
      "6 + 2 = 8\n",
      "6 + 3 = 9\n",
      "6 + 4 = 10\n",
      "6 + 5 = 11\n",
      "6 + 6 = 12\n"
     ]
    }
   ],
   "source": [
    "#주사위 던지기#권장사항은 3개까지#\n",
    "cube = [1, 2, 3,4,5,6]\n",
    "for first in cube:\n",
    "    for second in cube:\n",
    "        print(first,'+',second,'=',first + second )"
   ]
  }
 ],
 "metadata": {
  "kernelspec": {
   "display_name": "Python 3",
   "language": "python",
   "name": "python3"
  },
  "language_info": {
   "codemirror_mode": {
    "name": "ipython",
    "version": 3
   },
   "file_extension": ".py",
   "mimetype": "text/x-python",
   "name": "python",
   "nbconvert_exporter": "python",
   "pygments_lexer": "ipython3",
   "version": "3.6.5"
  }
 },
 "nbformat": 4,
 "nbformat_minor": 2
}
