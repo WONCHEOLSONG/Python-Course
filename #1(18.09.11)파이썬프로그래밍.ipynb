{
 "cells": [
  {
   "cell_type": "code",
   "execution_count": 1,
   "metadata": {},
   "outputs": [
    {
     "name": "stdout",
     "output_type": "stream",
     "text": [
      "안녕, 파이썬!\n"
     ]
    }
   ],
   "source": [
    "print('안녕, 파이썬!')"
   ]
  },
  {
   "cell_type": "code",
   "execution_count": 2,
   "metadata": {},
   "outputs": [
    {
     "name": "stdout",
     "output_type": "stream",
     "text": [
      "Hello, Python!\n"
     ]
    }
   ],
   "source": [
    "print('Hello, Python!')"
   ]
  },
  {
   "cell_type": "code",
   "execution_count": 3,
   "metadata": {},
   "outputs": [
    {
     "data": {
      "text/plain": [
       "273"
      ]
     },
     "execution_count": 3,
     "metadata": {},
     "output_type": "execute_result"
    }
   ],
   "source": [
    "273"
   ]
  },
  {
   "cell_type": "code",
   "execution_count": 4,
   "metadata": {},
   "outputs": [
    {
     "data": {
      "text/plain": [
       "330"
      ]
     },
     "execution_count": 4,
     "metadata": {},
     "output_type": "execute_result"
    }
   ],
   "source": [
    "10 + 20 + 30 * 10"
   ]
  },
  {
   "cell_type": "code",
   "execution_count": 5,
   "metadata": {},
   "outputs": [],
   "source": [
    "hello = 'Hello, Python!'"
   ]
  },
  {
   "cell_type": "code",
   "execution_count": 6,
   "metadata": {},
   "outputs": [
    {
     "name": "stdout",
     "output_type": "stream",
     "text": [
      "Hello, Python!\n"
     ]
    }
   ],
   "source": [
    "print(hello)"
   ]
  },
  {
   "cell_type": "code",
   "execution_count": 7,
   "metadata": {},
   "outputs": [],
   "source": [
    "hello = ' 안녕, 파이썬!'"
   ]
  },
  {
   "cell_type": "code",
   "execution_count": 8,
   "metadata": {},
   "outputs": [
    {
     "name": "stdout",
     "output_type": "stream",
     "text": [
      " 안녕, 파이썬!\n"
     ]
    }
   ],
   "source": [
    "print(hello)"
   ]
  },
  {
   "cell_type": "code",
   "execution_count": 9,
   "metadata": {},
   "outputs": [
    {
     "name": "stdout",
     "output_type": "stream",
     "text": [
      " ********\n",
      "  ****** \n",
      "   ****  \n",
      "    **   \n",
      "    **   \n",
      "   ****  \n",
      "  ****** \n",
      " ********\n"
     ]
    }
   ],
   "source": [
    "print(' ********')\n",
    "print('  ****** ')\n",
    "print('   ****  ')\n",
    "print('    **   ')\n",
    "print('    **   ')\n",
    "print('   ****  ')\n",
    "print('  ****** ')\n",
    "print(' ********')"
   ]
  },
  {
   "cell_type": "code",
   "execution_count": 10,
   "metadata": {},
   "outputs": [],
   "source": [
    "#snake형 (주로)\n",
    "phone_number = 1\n",
    "#Camel형 \n",
    "phoneNum = 2\n",
    "#언더바(_)는 절대 바꾸지 않을 코드에 사용하는 것이 좋다."
   ]
  },
  {
   "cell_type": "code",
   "execution_count": 11,
   "metadata": {},
   "outputs": [],
   "source": [
    "Impossible_Word= \"False, class, finally, is, return, None, continue, for, lambda, try, True, def, from, nonlocal, while, and, del, global, not, with, as, elif, if, or, yield, assert, else, import, pass, break, except, in ,raise\""
   ]
  },
  {
   "cell_type": "code",
   "execution_count": 12,
   "metadata": {},
   "outputs": [
    {
     "name": "stdout",
     "output_type": "stream",
     "text": [
      "False, class, finally, is, return, None, continue, for, lambda, try, True, def, from, nonlocal, while, and, del, global, not, with, as, elif, if, or, yield, assert, else, import, pass, break, except, in ,raise\n"
     ]
    }
   ],
   "source": [
    "print(Impossible_Word)"
   ]
  },
  {
   "cell_type": "code",
   "execution_count": 13,
   "metadata": {},
   "outputs": [
    {
     "name": "stdout",
     "output_type": "stream",
     "text": [
      "['False', 'None', 'True', 'and', 'as', 'assert', 'break', 'class', 'continue', 'def', 'del', 'elif', 'else', 'except', 'finally', 'for', 'from', 'global', 'if', 'import', 'in', 'is', 'lambda', 'nonlocal', 'not', 'or', 'pass', 'raise', 'return', 'try', 'while', 'with', 'yield']\n"
     ]
    }
   ],
   "source": [
    "import keyword\n",
    "print(keyword.kwlist)"
   ]
  },
  {
   "cell_type": "code",
   "execution_count": 14,
   "metadata": {},
   "outputs": [
    {
     "name": "stdout",
     "output_type": "stream",
     "text": [
      "Here is a speech mark: \" and here is a slash: \\\n"
     ]
    }
   ],
   "source": [
    "#자주 쓰이는 특수문자열\n",
    "# \\n 문자열의 줄을 바꿔준다\n",
    "# \\t 문자열에 탭 형식의 들여쓰기를 삽입한다.\n",
    "# \\\\ 문자열에 \\(역슬래시)문자를 표현한다.\n",
    "# \\\" 문자열에 인용부호를 표현한다.\n",
    "print(\"Here is a speech mark: \\\" and here is a slash: \\\\\")"
   ]
  },
  {
   "cell_type": "code",
   "execution_count": 15,
   "metadata": {},
   "outputs": [
    {
     "name": "stdout",
     "output_type": "stream",
     "text": [
      "I say \"High\", you say \"Low\". You say \"Why?\" and I say \"I don't know\". Oh no.\n"
     ]
    }
   ],
   "source": [
    "print('I say \"High\", you say \"Low\". You say \"Why?\" and I say \"I don\\'t know\". Oh no.')"
   ]
  },
  {
   "cell_type": "code",
   "execution_count": 16,
   "metadata": {},
   "outputs": [
    {
     "data": {
      "text/plain": [
       "3"
      ]
     },
     "execution_count": 16,
     "metadata": {},
     "output_type": "execute_result"
    }
   ],
   "source": [
    "#산술연산자\n",
    "# * 곱하기, /나누기, //나누기 정수값만, %나머지, +더하기, -빼기\n",
    "10/4\n",
    "3*3\n",
    "11/4\n",
    "11//4\n",
    "11%4"
   ]
  },
  {
   "cell_type": "code",
   "execution_count": 17,
   "metadata": {},
   "outputs": [
    {
     "name": "stdout",
     "output_type": "stream",
     "text": [
      "150\n"
     ]
    }
   ],
   "source": [
    "b=100\n",
    "a=50\n",
    "result=a+b\n",
    "print(result)"
   ]
  },
  {
   "cell_type": "code",
   "execution_count": 18,
   "metadata": {},
   "outputs": [
    {
     "name": "stdout",
     "output_type": "stream",
     "text": [
      "50 + 100 = 150\n"
     ]
    }
   ],
   "source": [
    "print(a, '+', b, '=', result)"
   ]
  },
  {
   "cell_type": "code",
   "execution_count": 19,
   "metadata": {},
   "outputs": [
    {
     "name": "stdout",
     "output_type": "stream",
     "text": [
      "50 + 100 = 150\n"
     ]
    }
   ],
   "source": [
    "print(a,\"+\",b,\"=\",result)"
   ]
  },
  {
   "cell_type": "code",
   "execution_count": 20,
   "metadata": {},
   "outputs": [
    {
     "name": "stdout",
     "output_type": "stream",
     "text": [
      "# 하나만 출력합니다.\n"
     ]
    }
   ],
   "source": [
    "#하나만 출력합니다. (#)은 우리가 보기 위해 만든 것일뿐 아무 영향도 안줌\n",
    "print(\"# 하나만 출력합니다.\")"
   ]
  },
  {
   "cell_type": "code",
   "execution_count": 21,
   "metadata": {},
   "outputs": [
    {
     "ename": "SyntaxError",
     "evalue": "invalid syntax (<ipython-input-21-0b5fe2b1f196>, line 3)",
     "output_type": "error",
     "traceback": [
      "\u001b[1;36m  File \u001b[1;32m\"<ipython-input-21-0b5fe2b1f196>\"\u001b[1;36m, line \u001b[1;32m3\u001b[0m\n\u001b[1;33m    2. name\u001b[0m\n\u001b[1;37m          ^\u001b[0m\n\u001b[1;31mSyntaxError\u001b[0m\u001b[1;31m:\u001b[0m invalid syntax\n"
     ]
    }
   ],
   "source": [
    "# Example\n",
    "1. What is your name?\n",
    "2. name\n",
    "3. Hi! name"
   ]
  },
  {
   "cell_type": "code",
   "execution_count": 1,
   "metadata": {},
   "outputs": [
    {
     "name": "stdout",
     "output_type": "stream",
     "text": [
      "what is your name? : 송원철\n",
      "Hi! 송원철\n"
     ]
    }
   ],
   "source": [
    "name = input('what is your name? : ')\n",
    "print('Hi!', name)"
   ]
  },
  {
   "cell_type": "code",
   "execution_count": null,
   "metadata": {},
   "outputs": [],
   "source": [
    "나이 = input('나이를 입력하세요: ')\n",
    "print('당신의 나이는' 나이 '입니다.')"
   ]
  },
  {
   "cell_type": "code",
   "execution_count": 4,
   "metadata": {},
   "outputs": [
    {
     "name": "stdout",
     "output_type": "stream",
     "text": [
      "반갑습니다. 계좌 이체를 위한 정보를 입력하세요.\n",
      "1) 출금 계좌 번호:1\n",
      "2) 입금 은행:2\n",
      "3) 입금 계좌 번호:3\n",
      "4) 수취인:4\n",
      "5) 이체 금액:5\n",
      "입력하신 정보는 아래와 같습니다.\n",
      "==============================\n",
      "-출금 계좌 번호: 1\n",
      "-입금 은행: 2\n",
      "-입금 계좌 번호: 3\n",
      "-수취인: 4\n",
      "-이체 금액: 5\n"
     ]
    }
   ],
   "source": [
    "print('반갑습니다. 계좌 이체를 위한 정보를 입력하세요.')\n",
    "\n",
    "num=input('1) 출금 계좌 번호:')\n",
    "bank=input('2) 입금 은행:')\n",
    "bank_num=input('3) 입금 계좌 번호:')\n",
    "given=input('4) 수취인:')\n",
    "much=input('5) 이체 금액:')\n",
    "\n",
    "print(\"입력하신 정보는 아래와 같습니다.\")\n",
    "print(\"==============================\")\n",
    "print('-출금 계좌 번호:', num)\n",
    "print('-입금 은행:', bank)\n",
    "print('-입금 계좌 번호:', bank_num)\n",
    "print('-수취인:', given)\n",
    "print('-이체 금액:', much)"
   ]
  }
 ],
 "metadata": {
  "kernelspec": {
   "display_name": "Python 3",
   "language": "python",
   "name": "python3"
  },
  "language_info": {
   "codemirror_mode": {
    "name": "ipython",
    "version": 3
   },
   "file_extension": ".py",
   "mimetype": "text/x-python",
   "name": "python",
   "nbconvert_exporter": "python",
   "pygments_lexer": "ipython3",
   "version": "3.6.5"
  }
 },
 "nbformat": 4,
 "nbformat_minor": 2
}
